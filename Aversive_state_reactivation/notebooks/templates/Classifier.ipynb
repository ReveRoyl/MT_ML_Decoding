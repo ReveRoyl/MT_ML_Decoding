{
 "cells": [
  {
   "cell_type": "markdown",
   "metadata": {
    "id": "vSkpg4anh7RQ"
   },
   "source": [
    "# Classifier"
   ]
  },
  {
   "cell_type": "code",
   "execution_count": 4,
   "metadata": {
    "colab": {
     "base_uri": "https://localhost:8080/"
    },
    "executionInfo": {
     "elapsed": 14893,
     "status": "ok",
     "timestamp": 1654006674650,
     "user": {
      "displayName": "Lei Luo",
      "userId": "12117982536677976370"
     },
     "user_tz": -60
    },
    "id": "AShsm69WH9Ey",
    "outputId": "b7d61bd7-65c3-44f2-bc93-543f0301d998"
   },
   "outputs": [
    {
     "name": "stdout",
     "output_type": "stream",
     "text": [
      "Mounted at /content/drive\n"
     ]
    }
   ],
   "source": [
    "from google.colab import drive\n",
    "drive.mount(\"/content/drive\") #connect to google drive if run via browser"
   ]
  },
  {
   "cell_type": "markdown",
   "metadata": {
    "id": "Qu3fJfZeh7RT"
   },
   "source": [
    "## Intsall reuirements and import packages"
   ]
  },
  {
   "cell_type": "code",
   "execution_count": 1,
   "metadata": {
    "colab": {
     "base_uri": "https://localhost:8080/"
    },
    "collapsed": true,
    "executionInfo": {
     "elapsed": 3159,
     "status": "ok",
     "timestamp": 1654006755306,
     "user": {
      "displayName": "Lei Luo",
      "userId": "12117982536677976370"
     },
     "user_tz": -60
    },
    "id": "vlVemiQbJICX",
    "jupyter": {
     "outputs_hidden": true
    },
    "outputId": "cdc79983-2670-41d3-ba23-c963c76d7c14",
    "tags": []
   },
   "outputs": [
    {
     "name": "stdout",
     "output_type": "stream",
     "text": [
      "Looking in indexes: https://pypi.org/simple, https://us-python.pkg.dev/colab-wheels/public/simple/\n",
      "Requirement already satisfied: ansiwrap in /usr/local/lib/python3.7/dist-packages (from -r /content/drive/MyDrive/MT_ML_Decoding/Aversive_state_reactivation/requirements.txt (line 1)) (0.8.4)\n",
      "Requirement already satisfied: appdirs in /usr/local/lib/python3.7/dist-packages (from -r /content/drive/MyDrive/MT_ML_Decoding/Aversive_state_reactivation/requirements.txt (line 2)) (1.4.4)\n",
      "Requirement already satisfied: argon2-cffi in /usr/local/lib/python3.7/dist-packages (from -r /content/drive/MyDrive/MT_ML_Decoding/Aversive_state_reactivation/requirements.txt (line 3)) (21.3.0)\n",
      "Requirement already satisfied: argon2-cffi-bindings in /usr/local/lib/python3.7/dist-packages (from -r /content/drive/MyDrive/MT_ML_Decoding/Aversive_state_reactivation/requirements.txt (line 4)) (21.2.0)\n",
      "Requirement already satisfied: asttokens in /usr/local/lib/python3.7/dist-packages (from -r /content/drive/MyDrive/MT_ML_Decoding/Aversive_state_reactivation/requirements.txt (line 5)) (2.0.5)\n",
      "Requirement already satisfied: attrs in /usr/local/lib/python3.7/dist-packages (from -r /content/drive/MyDrive/MT_ML_Decoding/Aversive_state_reactivation/requirements.txt (line 6)) (21.4.0)\n",
      "Requirement already satisfied: backcall in /usr/local/lib/python3.7/dist-packages (from -r /content/drive/MyDrive/MT_ML_Decoding/Aversive_state_reactivation/requirements.txt (line 7)) (0.2.0)\n",
      "Requirement already satisfied: beautifulsoup4 in /usr/local/lib/python3.7/dist-packages (from -r /content/drive/MyDrive/MT_ML_Decoding/Aversive_state_reactivation/requirements.txt (line 8)) (4.6.3)\n",
      "Requirement already satisfied: bleach in /usr/local/lib/python3.7/dist-packages (from -r /content/drive/MyDrive/MT_ML_Decoding/Aversive_state_reactivation/requirements.txt (line 9)) (5.0.0)\n",
      "Requirement already satisfied: certifi in /usr/local/lib/python3.7/dist-packages (from -r /content/drive/MyDrive/MT_ML_Decoding/Aversive_state_reactivation/requirements.txt (line 10)) (2022.5.18.1)\n",
      "Requirement already satisfied: cffi in /usr/local/lib/python3.7/dist-packages (from -r /content/drive/MyDrive/MT_ML_Decoding/Aversive_state_reactivation/requirements.txt (line 11)) (1.15.0)\n",
      "Requirement already satisfied: charset-normalizer in /usr/local/lib/python3.7/dist-packages (from -r /content/drive/MyDrive/MT_ML_Decoding/Aversive_state_reactivation/requirements.txt (line 12)) (2.0.12)\n",
      "Requirement already satisfied: click in /usr/local/lib/python3.7/dist-packages (from -r /content/drive/MyDrive/MT_ML_Decoding/Aversive_state_reactivation/requirements.txt (line 13)) (7.1.2)\n",
      "Requirement already satisfied: colorama in /usr/local/lib/python3.7/dist-packages (from -r /content/drive/MyDrive/MT_ML_Decoding/Aversive_state_reactivation/requirements.txt (line 14)) (0.4.4)\n",
      "Requirement already satisfied: colorlover in /usr/local/lib/python3.7/dist-packages (from -r /content/drive/MyDrive/MT_ML_Decoding/Aversive_state_reactivation/requirements.txt (line 15)) (0.3.0)\n",
      "Requirement already satisfied: cufflinks in /usr/local/lib/python3.7/dist-packages (from -r /content/drive/MyDrive/MT_ML_Decoding/Aversive_state_reactivation/requirements.txt (line 16)) (0.17.3)\n",
      "Requirement already satisfied: cycler in /usr/local/lib/python3.7/dist-packages (from -r /content/drive/MyDrive/MT_ML_Decoding/Aversive_state_reactivation/requirements.txt (line 17)) (0.11.0)\n",
      "Requirement already satisfied: debugpy in /usr/local/lib/python3.7/dist-packages (from -r /content/drive/MyDrive/MT_ML_Decoding/Aversive_state_reactivation/requirements.txt (line 18)) (1.0.0)\n",
      "Requirement already satisfied: decorator in /usr/local/lib/python3.7/dist-packages (from -r /content/drive/MyDrive/MT_ML_Decoding/Aversive_state_reactivation/requirements.txt (line 19)) (4.4.2)\n",
      "Requirement already satisfied: defusedxml in /usr/local/lib/python3.7/dist-packages (from -r /content/drive/MyDrive/MT_ML_Decoding/Aversive_state_reactivation/requirements.txt (line 20)) (0.7.1)\n",
      "Requirement already satisfied: entrypoints in /usr/local/lib/python3.7/dist-packages (from -r /content/drive/MyDrive/MT_ML_Decoding/Aversive_state_reactivation/requirements.txt (line 21)) (0.4)\n",
      "Requirement already satisfied: executing in /usr/local/lib/python3.7/dist-packages (from -r /content/drive/MyDrive/MT_ML_Decoding/Aversive_state_reactivation/requirements.txt (line 22)) (0.8.3)\n",
      "Requirement already satisfied: fastjsonschema in /usr/local/lib/python3.7/dist-packages (from -r /content/drive/MyDrive/MT_ML_Decoding/Aversive_state_reactivation/requirements.txt (line 23)) (2.15.3)\n",
      "Requirement already satisfied: fonttools in /usr/local/lib/python3.7/dist-packages (from -r /content/drive/MyDrive/MT_ML_Decoding/Aversive_state_reactivation/requirements.txt (line 24)) (4.33.3)\n",
      "Requirement already satisfied: idna in /usr/local/lib/python3.7/dist-packages (from -r /content/drive/MyDrive/MT_ML_Decoding/Aversive_state_reactivation/requirements.txt (line 25)) (2.10)\n",
      "Requirement already satisfied: importlib-resources in /usr/local/lib/python3.7/dist-packages (from -r /content/drive/MyDrive/MT_ML_Decoding/Aversive_state_reactivation/requirements.txt (line 26)) (5.7.1)\n",
      "Requirement already satisfied: jedi in /usr/local/lib/python3.7/dist-packages (from -r /content/drive/MyDrive/MT_ML_Decoding/Aversive_state_reactivation/requirements.txt (line 27)) (0.18.1)\n",
      "Requirement already satisfied: Jinja2 in /usr/local/lib/python3.7/dist-packages (from -r /content/drive/MyDrive/MT_ML_Decoding/Aversive_state_reactivation/requirements.txt (line 28)) (2.11.3)\n",
      "Requirement already satisfied: joblib in /usr/local/lib/python3.7/dist-packages (from -r /content/drive/MyDrive/MT_ML_Decoding/Aversive_state_reactivation/requirements.txt (line 29)) (1.1.0)\n",
      "Requirement already satisfied: jsonschema in /usr/local/lib/python3.7/dist-packages (from -r /content/drive/MyDrive/MT_ML_Decoding/Aversive_state_reactivation/requirements.txt (line 30)) (4.3.3)\n",
      "Requirement already satisfied: kiwisolver in /usr/local/lib/python3.7/dist-packages (from -r /content/drive/MyDrive/MT_ML_Decoding/Aversive_state_reactivation/requirements.txt (line 31)) (1.4.2)\n",
      "Requirement already satisfied: llvmlite in /usr/local/lib/python3.7/dist-packages (from -r /content/drive/MyDrive/MT_ML_Decoding/Aversive_state_reactivation/requirements.txt (line 32)) (0.34.0)\n",
      "Requirement already satisfied: MarkupSafe in /usr/local/lib/python3.7/dist-packages (from -r /content/drive/MyDrive/MT_ML_Decoding/Aversive_state_reactivation/requirements.txt (line 33)) (2.0.1)\n",
      "Requirement already satisfied: matplotlib in /usr/local/lib/python3.7/dist-packages (from -r /content/drive/MyDrive/MT_ML_Decoding/Aversive_state_reactivation/requirements.txt (line 34)) (3.2.2)\n",
      "Requirement already satisfied: matplotlib-inline in /usr/local/lib/python3.7/dist-packages (from -r /content/drive/MyDrive/MT_ML_Decoding/Aversive_state_reactivation/requirements.txt (line 35)) (0.1.3)\n",
      "Requirement already satisfied: mistune in /usr/local/lib/python3.7/dist-packages (from -r /content/drive/MyDrive/MT_ML_Decoding/Aversive_state_reactivation/requirements.txt (line 36)) (0.8.4)\n",
      "Requirement already satisfied: mkl-fft in /usr/local/lib/python3.7/dist-packages (from -r /content/drive/MyDrive/MT_ML_Decoding/Aversive_state_reactivation/requirements.txt (line 37)) (1.3.1)\n",
      "Requirement already satisfied: mkl-random in /usr/local/lib/python3.7/dist-packages (from -r /content/drive/MyDrive/MT_ML_Decoding/Aversive_state_reactivation/requirements.txt (line 38)) (1.2.2)\n",
      "Requirement already satisfied: mkl-service in /usr/local/lib/python3.7/dist-packages (from -r /content/drive/MyDrive/MT_ML_Decoding/Aversive_state_reactivation/requirements.txt (line 39)) (2.4.0)\n",
      "Requirement already satisfied: mne in /usr/local/lib/python3.7/dist-packages (from -r /content/drive/MyDrive/MT_ML_Decoding/Aversive_state_reactivation/requirements.txt (line 40)) (1.0.3)\n",
      "Requirement already satisfied: nbclient in /usr/local/lib/python3.7/dist-packages (from -r /content/drive/MyDrive/MT_ML_Decoding/Aversive_state_reactivation/requirements.txt (line 41)) (0.6.3)\n",
      "Requirement already satisfied: nbconvert in /usr/local/lib/python3.7/dist-packages (from -r /content/drive/MyDrive/MT_ML_Decoding/Aversive_state_reactivation/requirements.txt (line 42)) (5.6.1)\n",
      "Requirement already satisfied: nbformat in /usr/local/lib/python3.7/dist-packages (from -r /content/drive/MyDrive/MT_ML_Decoding/Aversive_state_reactivation/requirements.txt (line 43)) (5.4.0)\n",
      "Requirement already satisfied: nest-asyncio in /usr/local/lib/python3.7/dist-packages (from -r /content/drive/MyDrive/MT_ML_Decoding/Aversive_state_reactivation/requirements.txt (line 44)) (1.5.5)\n",
      "Requirement already satisfied: networkx in /usr/local/lib/python3.7/dist-packages (from -r /content/drive/MyDrive/MT_ML_Decoding/Aversive_state_reactivation/requirements.txt (line 45)) (2.6.3)\n",
      "Requirement already satisfied: notebook in /usr/local/lib/python3.7/dist-packages (from -r /content/drive/MyDrive/MT_ML_Decoding/Aversive_state_reactivation/requirements.txt (line 46)) (5.3.1)\n",
      "Requirement already satisfied: numba in /usr/local/lib/python3.7/dist-packages (from -r /content/drive/MyDrive/MT_ML_Decoding/Aversive_state_reactivation/requirements.txt (line 47)) (0.51.2)\n",
      "Requirement already satisfied: numpy in /usr/local/lib/python3.7/dist-packages (from -r /content/drive/MyDrive/MT_ML_Decoding/Aversive_state_reactivation/requirements.txt (line 48)) (1.21.6)\n",
      "Requirement already satisfied: packaging in /usr/local/lib/python3.7/dist-packages (from -r /content/drive/MyDrive/MT_ML_Decoding/Aversive_state_reactivation/requirements.txt (line 49)) (21.3)\n",
      "Requirement already satisfied: pandas in /usr/local/lib/python3.7/dist-packages (from -r /content/drive/MyDrive/MT_ML_Decoding/Aversive_state_reactivation/requirements.txt (line 50)) (1.3.5)\n",
      "Requirement already satisfied: pandocfilters in /usr/local/lib/python3.7/dist-packages (from -r /content/drive/MyDrive/MT_ML_Decoding/Aversive_state_reactivation/requirements.txt (line 51)) (1.5.0)\n",
      "Requirement already satisfied: papermill in /usr/local/lib/python3.7/dist-packages (from -r /content/drive/MyDrive/MT_ML_Decoding/Aversive_state_reactivation/requirements.txt (line 52)) (2.3.4)\n",
      "Requirement already satisfied: parso in /usr/local/lib/python3.7/dist-packages (from -r /content/drive/MyDrive/MT_ML_Decoding/Aversive_state_reactivation/requirements.txt (line 53)) (0.8.3)\n",
      "Requirement already satisfied: pickleshare in /usr/local/lib/python3.7/dist-packages (from -r /content/drive/MyDrive/MT_ML_Decoding/Aversive_state_reactivation/requirements.txt (line 54)) (0.7.5)\n",
      "Requirement already satisfied: Pillow in /usr/local/lib/python3.7/dist-packages (from -r /content/drive/MyDrive/MT_ML_Decoding/Aversive_state_reactivation/requirements.txt (line 55)) (7.1.2)\n",
      "Requirement already satisfied: plotly in /usr/local/lib/python3.7/dist-packages (from -r /content/drive/MyDrive/MT_ML_Decoding/Aversive_state_reactivation/requirements.txt (line 56)) (5.5.0)\n",
      "Requirement already satisfied: pooch in /usr/local/lib/python3.7/dist-packages (from -r /content/drive/MyDrive/MT_ML_Decoding/Aversive_state_reactivation/requirements.txt (line 57)) (1.6.0)\n",
      "Requirement already satisfied: prometheus-client in /usr/local/lib/python3.7/dist-packages (from -r /content/drive/MyDrive/MT_ML_Decoding/Aversive_state_reactivation/requirements.txt (line 58)) (0.14.1)\n",
      "Requirement already satisfied: prompt-toolkit in /usr/local/lib/python3.7/dist-packages (from -r /content/drive/MyDrive/MT_ML_Decoding/Aversive_state_reactivation/requirements.txt (line 59)) (1.0.18)\n",
      "Requirement already satisfied: pure-eval in /usr/local/lib/python3.7/dist-packages (from -r /content/drive/MyDrive/MT_ML_Decoding/Aversive_state_reactivation/requirements.txt (line 60)) (0.2.2)\n",
      "Requirement already satisfied: pycparser in /usr/local/lib/python3.7/dist-packages (from -r /content/drive/MyDrive/MT_ML_Decoding/Aversive_state_reactivation/requirements.txt (line 61)) (2.21)\n",
      "Requirement already satisfied: Pygments in /usr/local/lib/python3.7/dist-packages (from -r /content/drive/MyDrive/MT_ML_Decoding/Aversive_state_reactivation/requirements.txt (line 62)) (2.6.1)\n",
      "Requirement already satisfied: pyparsing in /usr/local/lib/python3.7/dist-packages (from -r /content/drive/MyDrive/MT_ML_Decoding/Aversive_state_reactivation/requirements.txt (line 63)) (3.0.9)\n",
      "Requirement already satisfied: pyrsistent in /usr/local/lib/python3.7/dist-packages (from -r /content/drive/MyDrive/MT_ML_Decoding/Aversive_state_reactivation/requirements.txt (line 64)) (0.18.1)\n",
      "Requirement already satisfied: python-dateutil in /usr/local/lib/python3.7/dist-packages (from -r /content/drive/MyDrive/MT_ML_Decoding/Aversive_state_reactivation/requirements.txt (line 65)) (2.8.2)\n",
      "Requirement already satisfied: pytz in /usr/local/lib/python3.7/dist-packages (from -r /content/drive/MyDrive/MT_ML_Decoding/Aversive_state_reactivation/requirements.txt (line 66)) (2022.1)\n",
      "Requirement already satisfied: PyYAML in /usr/local/lib/python3.7/dist-packages (from -r /content/drive/MyDrive/MT_ML_Decoding/Aversive_state_reactivation/requirements.txt (line 67)) (3.13)\n",
      "Requirement already satisfied: pyzmq in /usr/local/lib/python3.7/dist-packages (from -r /content/drive/MyDrive/MT_ML_Decoding/Aversive_state_reactivation/requirements.txt (line 68)) (23.0.0)\n",
      "Requirement already satisfied: qtconsole in /usr/local/lib/python3.7/dist-packages (from -r /content/drive/MyDrive/MT_ML_Decoding/Aversive_state_reactivation/requirements.txt (line 69)) (5.3.0)\n",
      "Requirement already satisfied: QtPy in /usr/local/lib/python3.7/dist-packages (from -r /content/drive/MyDrive/MT_ML_Decoding/Aversive_state_reactivation/requirements.txt (line 70)) (2.1.0)\n",
      "Requirement already satisfied: requests in /usr/local/lib/python3.7/dist-packages (from -r /content/drive/MyDrive/MT_ML_Decoding/Aversive_state_reactivation/requirements.txt (line 71)) (2.23.0)\n",
      "Requirement already satisfied: scikit-learn in /usr/local/lib/python3.7/dist-packages (from -r /content/drive/MyDrive/MT_ML_Decoding/Aversive_state_reactivation/requirements.txt (line 72)) (1.0.2)\n",
      "Requirement already satisfied: scikit-plot in /usr/local/lib/python3.7/dist-packages (from -r /content/drive/MyDrive/MT_ML_Decoding/Aversive_state_reactivation/requirements.txt (line 73)) (0.3.7)\n",
      "Requirement already satisfied: scipy in /usr/local/lib/python3.7/dist-packages (from -r /content/drive/MyDrive/MT_ML_Decoding/Aversive_state_reactivation/requirements.txt (line 74)) (1.4.1)\n",
      "Requirement already satisfied: seaborn in /usr/local/lib/python3.7/dist-packages (from -r /content/drive/MyDrive/MT_ML_Decoding/Aversive_state_reactivation/requirements.txt (line 75)) (0.11.2)\n",
      "Requirement already satisfied: Send2Trash in /usr/local/lib/python3.7/dist-packages (from -r /content/drive/MyDrive/MT_ML_Decoding/Aversive_state_reactivation/requirements.txt (line 76)) (1.8.0)\n",
      "Requirement already satisfied: sip in /usr/local/lib/python3.7/dist-packages (from -r /content/drive/MyDrive/MT_ML_Decoding/Aversive_state_reactivation/requirements.txt (line 77)) (6.6.1)\n",
      "Requirement already satisfied: six in /usr/local/lib/python3.7/dist-packages (from -r /content/drive/MyDrive/MT_ML_Decoding/Aversive_state_reactivation/requirements.txt (line 78)) (1.15.0)\n",
      "Requirement already satisfied: sklearn in /usr/local/lib/python3.7/dist-packages (from -r /content/drive/MyDrive/MT_ML_Decoding/Aversive_state_reactivation/requirements.txt (line 79)) (0.0)\n",
      "Requirement already satisfied: soupsieve in /usr/local/lib/python3.7/dist-packages (from -r /content/drive/MyDrive/MT_ML_Decoding/Aversive_state_reactivation/requirements.txt (line 80)) (2.3.2.post1)\n",
      "Requirement already satisfied: stack-data in /usr/local/lib/python3.7/dist-packages (from -r /content/drive/MyDrive/MT_ML_Decoding/Aversive_state_reactivation/requirements.txt (line 81)) (0.2.0)\n",
      "Requirement already satisfied: tenacity in /usr/local/lib/python3.7/dist-packages (from -r /content/drive/MyDrive/MT_ML_Decoding/Aversive_state_reactivation/requirements.txt (line 82)) (8.0.1)\n",
      "Requirement already satisfied: terminado in /usr/local/lib/python3.7/dist-packages (from -r /content/drive/MyDrive/MT_ML_Decoding/Aversive_state_reactivation/requirements.txt (line 83)) (0.13.3)\n",
      "Requirement already satisfied: testpath in /usr/local/lib/python3.7/dist-packages (from -r /content/drive/MyDrive/MT_ML_Decoding/Aversive_state_reactivation/requirements.txt (line 84)) (0.6.0)\n",
      "Requirement already satisfied: textwrap3 in /usr/local/lib/python3.7/dist-packages (from -r /content/drive/MyDrive/MT_ML_Decoding/Aversive_state_reactivation/requirements.txt (line 85)) (0.9.2)\n",
      "Requirement already satisfied: threadpoolctl in /usr/local/lib/python3.7/dist-packages (from -r /content/drive/MyDrive/MT_ML_Decoding/Aversive_state_reactivation/requirements.txt (line 86)) (3.1.0)\n",
      "Requirement already satisfied: tornado==5.1.0 in /usr/local/lib/python3.7/dist-packages (from -r /content/drive/MyDrive/MT_ML_Decoding/Aversive_state_reactivation/requirements.txt (line 87)) (5.1)\n",
      "Requirement already satisfied: tqdm in /usr/local/lib/python3.7/dist-packages (from -r /content/drive/MyDrive/MT_ML_Decoding/Aversive_state_reactivation/requirements.txt (line 88)) (4.64.0)\n",
      "Requirement already satisfied: traitlets in /usr/local/lib/python3.7/dist-packages (from -r /content/drive/MyDrive/MT_ML_Decoding/Aversive_state_reactivation/requirements.txt (line 89)) (5.1.1)\n",
      "Requirement already satisfied: typing_extensions in /usr/local/lib/python3.7/dist-packages (from -r /content/drive/MyDrive/MT_ML_Decoding/Aversive_state_reactivation/requirements.txt (line 90)) (4.2.0)\n",
      "Requirement already satisfied: urllib3 in /usr/local/lib/python3.7/dist-packages (from -r /content/drive/MyDrive/MT_ML_Decoding/Aversive_state_reactivation/requirements.txt (line 91)) (1.24.3)\n",
      "Requirement already satisfied: wcwidth in /usr/local/lib/python3.7/dist-packages (from -r /content/drive/MyDrive/MT_ML_Decoding/Aversive_state_reactivation/requirements.txt (line 92)) (0.2.5)\n",
      "Requirement already satisfied: webencodings in /usr/local/lib/python3.7/dist-packages (from -r /content/drive/MyDrive/MT_ML_Decoding/Aversive_state_reactivation/requirements.txt (line 93)) (0.5.1)\n",
      "Requirement already satisfied: widgetsnbextension in /usr/local/lib/python3.7/dist-packages (from -r /content/drive/MyDrive/MT_ML_Decoding/Aversive_state_reactivation/requirements.txt (line 94)) (3.6.0)\n",
      "Requirement already satisfied: wincertstore in /usr/local/lib/python3.7/dist-packages (from -r /content/drive/MyDrive/MT_ML_Decoding/Aversive_state_reactivation/requirements.txt (line 95)) (0.2)\n",
      "Requirement already satisfied: zipp in /usr/local/lib/python3.7/dist-packages (from -r /content/drive/MyDrive/MT_ML_Decoding/Aversive_state_reactivation/requirements.txt (line 96)) (3.8.0)\n",
      "Requirement already satisfied: ipywidgets>=7.0.0 in /usr/local/lib/python3.7/dist-packages (from cufflinks->-r /content/drive/MyDrive/MT_ML_Decoding/Aversive_state_reactivation/requirements.txt (line 16)) (7.7.0)\n",
      "Requirement already satisfied: ipython>=5.3.0 in /usr/local/lib/python3.7/dist-packages (from cufflinks->-r /content/drive/MyDrive/MT_ML_Decoding/Aversive_state_reactivation/requirements.txt (line 16)) (5.5.0)\n",
      "Requirement already satisfied: setuptools>=34.4.1 in /usr/local/lib/python3.7/dist-packages (from cufflinks->-r /content/drive/MyDrive/MT_ML_Decoding/Aversive_state_reactivation/requirements.txt (line 16)) (57.4.0)\n",
      "Requirement already satisfied: pexpect in /usr/local/lib/python3.7/dist-packages (from ipython>=5.3.0->cufflinks->-r /content/drive/MyDrive/MT_ML_Decoding/Aversive_state_reactivation/requirements.txt (line 16)) (4.8.0)\n",
      "Requirement already satisfied: simplegeneric>0.8 in /usr/local/lib/python3.7/dist-packages (from ipython>=5.3.0->cufflinks->-r /content/drive/MyDrive/MT_ML_Decoding/Aversive_state_reactivation/requirements.txt (line 16)) (0.8.1)\n",
      "Requirement already satisfied: jupyterlab-widgets>=1.0.0 in /usr/local/lib/python3.7/dist-packages (from ipywidgets>=7.0.0->cufflinks->-r /content/drive/MyDrive/MT_ML_Decoding/Aversive_state_reactivation/requirements.txt (line 16)) (1.1.0)\n",
      "Requirement already satisfied: ipykernel>=4.5.1 in /usr/local/lib/python3.7/dist-packages (from ipywidgets>=7.0.0->cufflinks->-r /content/drive/MyDrive/MT_ML_Decoding/Aversive_state_reactivation/requirements.txt (line 16)) (4.10.1)\n",
      "Requirement already satisfied: ipython-genutils~=0.2.0 in /usr/local/lib/python3.7/dist-packages (from ipywidgets>=7.0.0->cufflinks->-r /content/drive/MyDrive/MT_ML_Decoding/Aversive_state_reactivation/requirements.txt (line 16)) (0.2.0)\n",
      "Requirement already satisfied: jupyter-core in /usr/local/lib/python3.7/dist-packages (from nbformat->-r /content/drive/MyDrive/MT_ML_Decoding/Aversive_state_reactivation/requirements.txt (line 43)) (4.10.0)\n",
      "Requirement already satisfied: importlib-metadata in /usr/local/lib/python3.7/dist-packages (from jsonschema->-r /content/drive/MyDrive/MT_ML_Decoding/Aversive_state_reactivation/requirements.txt (line 30)) (4.11.3)\n",
      "Requirement already satisfied: jupyter-client>=5.2.0 in /usr/local/lib/python3.7/dist-packages (from notebook->-r /content/drive/MyDrive/MT_ML_Decoding/Aversive_state_reactivation/requirements.txt (line 46)) (7.2.0)\n",
      "Requirement already satisfied: ptyprocess in /usr/local/lib/python3.7/dist-packages (from terminado->-r /content/drive/MyDrive/MT_ML_Decoding/Aversive_state_reactivation/requirements.txt (line 83)) (0.7.0)\n",
      "Requirement already satisfied: mkl in /usr/local/lib/python3.7/dist-packages (from mkl-fft->-r /content/drive/MyDrive/MT_ML_Decoding/Aversive_state_reactivation/requirements.txt (line 37)) (2019.0)\n",
      "Requirement already satisfied: dpcpp_cpp_rt in /usr/local/lib/python3.7/dist-packages (from mkl-fft->-r /content/drive/MyDrive/MT_ML_Decoding/Aversive_state_reactivation/requirements.txt (line 37)) (2022.1.0)\n",
      "Requirement already satisfied: chardet<4,>=3.0.2 in /usr/local/lib/python3.7/dist-packages (from requests->-r /content/drive/MyDrive/MT_ML_Decoding/Aversive_state_reactivation/requirements.txt (line 71)) (3.0.4)\n",
      "Requirement already satisfied: toml in /usr/local/lib/python3.7/dist-packages (from sip->-r /content/drive/MyDrive/MT_ML_Decoding/Aversive_state_reactivation/requirements.txt (line 77)) (0.10.2)\n",
      "Requirement already satisfied: ply in /usr/local/lib/python3.7/dist-packages (from sip->-r /content/drive/MyDrive/MT_ML_Decoding/Aversive_state_reactivation/requirements.txt (line 77)) (3.11)\n",
      "Requirement already satisfied: intel-cmplr-lib-rt==2022.1.0 in /usr/local/lib/python3.7/dist-packages (from dpcpp_cpp_rt->mkl-fft->-r /content/drive/MyDrive/MT_ML_Decoding/Aversive_state_reactivation/requirements.txt (line 37)) (2022.1.0)\n",
      "Requirement already satisfied: intel-openmp==2022.1.0 in /usr/local/lib/python3.7/dist-packages (from dpcpp_cpp_rt->mkl-fft->-r /content/drive/MyDrive/MT_ML_Decoding/Aversive_state_reactivation/requirements.txt (line 37)) (2022.1.0)\n",
      "Requirement already satisfied: intel-cmplr-lic-rt==2022.1.0 in /usr/local/lib/python3.7/dist-packages (from dpcpp_cpp_rt->mkl-fft->-r /content/drive/MyDrive/MT_ML_Decoding/Aversive_state_reactivation/requirements.txt (line 37)) (2022.1.0)\n",
      "Requirement already satisfied: intel-opencl-rt==2022.1.0 in /usr/local/lib/python3.7/dist-packages (from dpcpp_cpp_rt->mkl-fft->-r /content/drive/MyDrive/MT_ML_Decoding/Aversive_state_reactivation/requirements.txt (line 37)) (2022.1.0)\n",
      "Requirement already satisfied: tbb==2021.* in /usr/local/lib/python3.7/dist-packages (from intel-opencl-rt==2022.1.0->dpcpp_cpp_rt->mkl-fft->-r /content/drive/MyDrive/MT_ML_Decoding/Aversive_state_reactivation/requirements.txt (line 37)) (2021.6.0)\n"
     ]
    }
   ],
   "source": [
    "%pip install -r /content/drive/MyDrive/MT_ML_Decoding/Aversive_state_reactivation/requirements.txt"
   ]
  },
  {
   "cell_type": "code",
   "execution_count": 2,
   "metadata": {
    "executionInfo": {
     "elapsed": 2386,
     "status": "ok",
     "timestamp": 1654006757863,
     "user": {
      "displayName": "Lei Luo",
      "userId": "12117982536677976370"
     },
     "user_tz": -60
    },
    "id": "3aLZyBMFGsyI"
   },
   "outputs": [],
   "source": [
    "import os\n",
    "import sys\n",
    "sys.path.insert(0, '/content/drive/MyDrive/MT_ML_Decoding/Aversive_state_reactivation/notebooks/templates')\n",
    "import mne\n",
    "import matplotlib.pyplot as plt\n",
    "import numpy as np\n",
    "import pandas as pd\n",
    "import json\n",
    "from sklearn.pipeline import make_pipeline\n",
    "from sklearn.preprocessing import StandardScaler\n",
    "from sklearn.linear_model import LogisticRegression\n",
    "from sklearn.decomposition import PCA\n",
    "from sklearn.metrics import confusion_matrix, accuracy_score\n",
    "from sklearn.preprocessing import FunctionTransformer\n",
    "from sklearn.model_selection import RandomizedSearchCV, cross_val_predict\n",
    "from sklearn.model_selection import GridSearchCV #test\n",
    "#from sklearn.externals import joblib\n",
    "import joblib\n",
    "from scipy.stats import halfcauchy\n",
    "from mne.decoding import UnsupervisedSpatialFilter\n",
    "import plotly.graph_objs as go\n",
    "from plotly.offline import init_notebook_mode, iplot\n",
    "from utils import add_features\n",
    "from sklearn.metrics import ConfusionMatrixDisplay\n",
    "from state_prediction import *\n",
    "from sliding_window_classifiers import *\n",
    "import gc\n",
    "np.random.seed(100)\n",
    "\n",
    "\n",
    "\n",
    "# DEFAULT PARAMETERS - OVERRRIDEN BY PAPERMILL EXECUTION\n",
    "session_id = '001'  # ID of the scanning session\n",
    "output_dir = '/content/drive/MyDrive/MT_ML_Decoding/Aversive_state_reactivation/notebooks/templates/data/derivatives'  # Where the output data should go\n",
    "n_stim = 14  # Number of stimuli\n",
    "classifier_window = [-5, 6]  # Additional timepoints to use as features\n",
    "classifier_center_idx_setting = 20  # The center index of the classification window, post stimulus onset\n",
    "n_pca_components = [30, 60]  # Range of PCA components to try when optimising the classifier\n",
    "param_optimisation_cv = 5  # Folds of CV to use in optimisation\n",
    "classifier_regularisation = 'l1'  # Type of regularisation to use, l1 or l2\n",
    "classifier_multiclass = 'ovr'  # Type of multi-class approach to use, ovr for one-vs-the-rest or multiclass\n",
    "confusion_matrix_cv = 5  # CV to use for making the confusion matrix\n",
    "n_iter_search = 100  # Number of iterations of the random search parameter optimisation procedure\n",
    "cores = 1  # Number of cores to use for parallel processing\n",
    "os.environ['OMP_NUM_THREADS'] = str(cores)\n",
    "list_mean_accuracy = []\n",
    "list_X = []"
   ]
  },
  {
   "cell_type": "markdown",
   "metadata": {
    "id": "p5_VI9gDh7RV"
   },
   "source": [
    "## Apply sequenceness classifier"
   ]
  },
  {
   "cell_type": "code",
   "execution_count": 3,
   "metadata": {
    "colab": {
     "base_uri": "https://localhost:8080/",
     "height": 847
    },
    "executionInfo": {
     "elapsed": 147513,
     "status": "ok",
     "timestamp": 1654006909195,
     "user": {
      "displayName": "Lei Luo",
      "userId": "12117982536677976370"
     },
     "user_tz": -60
    },
    "id": "ljBwuJE5GN2Z",
    "outputId": "164024da-3c50-485d-f353-dc5b3d881719"
   },
   "outputs": [
    {
     "name": "stdout",
     "output_type": "stream",
     "text": [
      "Reading /content/drive/MyDrive/MT_ML_Decoding/Aversive_state_reactivation/notebooks/templates/data/derivatives/preprocessing/sub-001/localiser/sub-001_ses-01_task-AversiveLearningReplay_run-localiser_proc_ICA-epo.fif.gz ...\n",
      "    Read 5 compensation matrices\n",
      "    Found the data of interest:\n",
      "        t =    -500.00 ...     790.00 ms\n",
      "        5 CTF compensation matrices available\n",
      "0 bad epochs dropped\n",
      "Not setting metadata\n",
      "900 matching events found\n",
      "No baseline correction applied\n",
      "0 projection items activated\n",
      "002\n",
      "Reading /content/drive/MyDrive/MT_ML_Decoding/Aversive_state_reactivation/notebooks/templates/data/derivatives/preprocessing/sub-002/localiser/sub-002_ses-01_task-AversiveLearningReplay_run-localiser_proc_ICA-epo.fif.gz ...\n",
      "    Read 5 compensation matrices\n",
      "    Found the data of interest:\n",
      "        t =    -500.00 ...     790.00 ms\n",
      "        5 CTF compensation matrices available\n",
      "0 bad epochs dropped\n",
      "Not setting metadata\n",
      "900 matching events found\n",
      "No baseline correction applied\n",
      "0 projection items activated\n",
      "Not setting metadata\n",
      "1800 matching events found\n",
      "Applying baseline correction (mode: mean)\n",
      "0 bad epochs dropped\n",
      "Number of unique events = 14\n",
      "\n",
      "Event types = [ 2  4  6  8 10 12 14 16 18 20 22 24 26 28]\n",
      "Fitting 5 folds for each of 100 candidates, totalling 500 fits\n"
     ]
    },
    {
     "data": {
      "text/html": [
       "        <script type=\"text/javascript\">\n",
       "        window.PlotlyConfig = {MathJaxConfig: 'local'};\n",
       "        if (window.MathJax) {MathJax.Hub.Config({SVG: {font: \"STIX-Web\"}});}\n",
       "        if (typeof require !== 'undefined') {\n",
       "        require.undef(\"plotly\");\n",
       "        requirejs.config({\n",
       "            paths: {\n",
       "                'plotly': ['https://cdn.plot.ly/plotly-2.8.3.min']\n",
       "            }\n",
       "        });\n",
       "        require(['plotly'], function(Plotly) {\n",
       "            window._Plotly = Plotly;\n",
       "        });\n",
       "        }\n",
       "        </script>\n",
       "        "
      ]
     },
     "metadata": {},
     "output_type": "display_data"
    },
    {
     "name": "stdout",
     "output_type": "stream",
     "text": [
      "Mean accuracy = 0.22555555555555556\n"
     ]
    },
    {
     "data": {
      "image/png": "[encoded data removed]",
      "text/plain": [
       "<Figure size 432x288 with 2 Axes>"
      ]
     },
     "metadata": {
      "needs_background": "light"
     },
     "output_type": "display_data"
    }
   ],
   "source": [
    "# Get data\n",
    "localiser_epochs = mne.read_epochs(os.path.join(output_dir, 'preprocessing', 'sub-{}', 'localiser', 'sub-{}_ses-01_task-AversiveLearningReplay_run-localiser_proc_ICA-epo.fif.gz').format('001','001')) \n",
    "\n",
    "for session_id_int in range(2, 3):\n",
    "    session_id = '{:03d}'.format(session_id_int)\n",
    "    print(session_id)\n",
    "    \n",
    "    localiser_epochs_unconcatenate = mne.read_epochs(os.path.join(output_dir, 'preprocessing', 'sub-{}', 'localiser', 'sub-{}_ses-01_task-AversiveLearningReplay_run-localiser_proc_ICA-epo.fif.gz').format(session_id,session_id))  \n",
    "    localiser_epochs_unconcatenate.info = localiser_epochs.info\n",
    "    localiser_epochs = mne.concatenate_epochs([localiser_epochs, localiser_epochs_unconcatenate]) \n",
    "\n",
    "# Get epoch data\n",
    "X_raw = localiser_epochs.get_data()  # MEG signals: n_epochs, n_channels, n_times (exclude non MEG channels)\n",
    "y_raw = localiser_epochs.events[:, 2]  # Get event types\n",
    "\n",
    "# select events and time period of interest\n",
    "picks_meg = mne.pick_types(localiser_epochs.info, meg=True, ref_meg=False)\n",
    "event_selector = (y_raw < n_stim * 2 + 1)\n",
    "X_raw = X_raw[event_selector, ...]\n",
    "y_raw = y_raw[event_selector]\n",
    "X_raw = X_raw[:, picks_meg, :]\n",
    "\n",
    "assert len(np.unique(y_raw)) == n_stim, \"Found {0} stimuli, expected {1}\".format(len(np.unique(y_raw)), n_stim)\n",
    "\n",
    "print(\"Number of unique events = {0}\\n\\nEvent types = {1}\".format(len(np.unique(y_raw)),\n",
    "                                                                np.unique(y_raw)))\n",
    "\n",
    "times = localiser_epochs.times\n",
    "\n",
    "prestim_samples = int(np.abs(localiser_epochs.tmin * localiser_epochs.info['sfreq']))\n",
    "classifier_center_idx = prestim_samples + classifier_center_idx_setting\n",
    "\n",
    "\n",
    "# Get data\n",
    "X, y = (X_raw.copy(), y_raw.copy())\n",
    "X = X[..., classifier_center_idx + classifier_window[0]:classifier_center_idx + classifier_window[1]] \n",
    "\n",
    "#Create null data\n",
    "# X_null = np.zeros((X.shape[0], 272, np.sum(np.abs(classifier_window))))\n",
    "# for n, i in enumerate(np.random.randint(np.sum(np.abs(classifier_window)), prestim_samples, X.shape[0])):\n",
    "#     X_null[n, :, :] = X_raw[n, :, i:np.sum(np.abs(classifier_window)) + i]\n",
    "# y_null = np.ones(X_null.shape[0]) * 99\n",
    "# X = np.vstack([X, X_null])\n",
    "# y = np.hstack([y, y_null])\n",
    "\n",
    "# Create a pipiline that combines PCA, feature augmentation, scaling, and the logistic regression classifier\n",
    "clf = make_pipeline(UnsupervisedSpatialFilter(PCA(50), average=False), \n",
    "                    FunctionTransformer(add_features, validate=False), StandardScaler(), \n",
    "                    LogisticRegression(multi_class=classifier_multiclass, C=0.1, penalty=classifier_regularisation, solver='saga', max_iter=100000, tol=0.2, class_weight=\"balanced\"))\n",
    "# # Parameter distributions passed to the random search procedure\n",
    "param_dist = {\"unsupervisedspatialfilter__estimator__n_components\": range(*n_pca_components),\n",
    "            \"logisticregression__C\": halfcauchy(scale=5)}\n",
    "\n",
    "# # run randomized search\n",
    "random_search = RandomizedSearchCV(clf, param_distributions=param_dist,\n",
    "                                n_iter=n_iter_search, cv=param_optimisation_cv, n_jobs=8, scoring='accuracy', verbose=True)\n",
    "random_search.fit(X, y)\n",
    "\n",
    "# # Produce a dataframe of the search results\n",
    "results = pd.DataFrame(random_search.cv_results_)\n",
    "\n",
    "#print(\"Parameter optimisation done\")\n",
    "\n",
    "\n",
    "init_notebook_mode(connected=True)\n",
    "\n",
    "trace = go.Mesh3d(x=results.param_logisticregression__C,\n",
    "                y=results.param_unsupervisedspatialfilter__estimator__n_components,\n",
    "                z=results.mean_test_score, \n",
    "                color='#275fb5', opacity=0.20)\n",
    "\n",
    "layout = go.Layout(\n",
    "    title='Hyperparameter optimisation results',\n",
    "    autosize=True,\n",
    "    width=700,\n",
    "    height=700,\n",
    "    scene = dict(\n",
    "    xaxis = dict(\n",
    "        title='Logistic regression C'),\n",
    "    yaxis = dict(\n",
    "        title='PCA N components'),\n",
    "    zaxis = dict(\n",
    "        title='Mean accuracy'),)\n",
    ")\n",
    "\n",
    "fig = go.Figure(data=[trace], layout=layout)\n",
    "#iplot(fig)\n",
    "\n",
    "\n",
    "clf.set_params(**random_search.best_params_)\n",
    "\n",
    "# Get predictions with 5 fold CV\n",
    "y_pred = cross_val_predict(clf, X, y, cv=confusion_matrix_cv)\n",
    "mean_conf_mat = confusion_matrix(y, y_pred)\n",
    "mean_accuracy = accuracy_score(y[y != 99], y_pred[y != 99])\n",
    "mean_conf_mat = mean_conf_mat.astype('float') / mean_conf_mat.sum(axis=1)  # normalise\n",
    "list_mean_accuracy.append(mean_accuracy)\n",
    "print(\"Mean accuracy = {0}\".format(mean_accuracy))\n",
    "    \n",
    "ConfusionMatrixDisplay.from_predictions(y, y_pred)\n",
    "plt.savefig('/content/drive/MyDrive/MT_ML_Decoding/Aversive_state_reactivation/notebooks/templates/save_folder/fig-{}.png'.format(session_id), dpi=600)\n",
    "plt.show()\n",
    "\n",
    "\n",
    "# #save\n",
    "# if not os.path.exists(os.path.join(output_dir, 'classifier', 'classifier_idx_{0}'.format(classifier_center_idx))):\n",
    "#     os.makedirs(os.path.join(output_dir, 'classifier', 'classifier_idx_{0}'.format(classifier_center_idx)))\n",
    "# joblib.dump(random_search.best_estimator_ , os.path.join(output_dir, 'classifier', \n",
    "#                                                         'classifier_idx_{0}'.format(classifier_center_idx), 'sub-{0}_classifier_idx_{1}.pkl').format(session_id, classifier_center_idx))\n",
    "\n",
    "# accuracy_data = {\n",
    "#     'mean_accuracy': mean_accuracy,\n",
    "#     'best_C': random_search.best_params_['logisticregression__C'],\n",
    "#     'best_n_components': random_search.best_params_['unsupervisedspatialfilter__estimator__n_components']\n",
    "# }\n",
    "\n",
    "# with open(os.path.join(output_dir, 'classifier', 'sub-{0}_classifier_info.json'), 'w') as f:\n",
    "#     json.dump(accuracy_data, f)\n",
    "\n",
    "# if not os.path.exists(os.path.join(output_dir, 'localiser_classifier_performance', 'confusion_matrix', 'classifier_idx_{0}'.format(classifier_center_idx))):\n",
    "#     os.makedirs(os.path.join(output_dir, 'localiser_classifier_performance', 'confusion_matrix', 'classifier_idx_{0}'.format(classifier_center_idx)))\n",
    "# np.save(os.path.join(output_dir, 'localiser_classifier_performance', 'confusion_matrix', 'sub-{0}_confusion_matrix_idx_{1}.pkl').format(session_id, classifier_center_idx), mean_conf_mat)\n",
    "\n",
    "# print(os.path.join(output_dir, 'classifier', 'classifier_idx_{0}'.format(classifier_center_idx), 'sub-{0}_classifier_idx_{1}.pkl').format(session_id, classifier_center_idx))\n",
    "# print(os.path.join(output_dir, 'localiser_classifier_performance', 'confusion_matrix', 'classifier_idx_{0}'.format(classifier_center_idx)))\n",
    "# print(os.path.join(output_dir, 'localiser_classifier_performance', 'confusion_matrix', 'sub-{0}_confusion_matrix_idx_{1}.pkl').format(session_id, classifier_center_idx), mean_conf_mat)"
   ]
  },
  {
   "cell_type": "markdown",
   "metadata": {
    "id": "ZgkFsvzxn6i5"
   },
   "source": [
    "## Loop to transform X data for each subject without running classification"
   ]
  },
  {
   "cell_type": "code",
   "execution_count": null,
   "metadata": {
    "colab": {
     "background_save": true,
     "base_uri": "https://localhost:8080/"
    },
    "executionInfo": {
     "elapsed": 78808,
     "status": "ok",
     "timestamp": 1651940452232,
     "user": {
      "displayName": "Lei Luo",
      "userId": "12117982536677976370"
     },
     "user_tz": -60
    },
    "id": "3P6lkC3ykdSF",
    "outputId": "0651b339-6d8e-4339-93de-15dee00597e3"
   },
   "outputs": [
    {
     "name": "stdout",
     "output_type": "stream",
     "text": [
      "001\n",
      "Reading /content/drive/MyDrive/MT_ML_Decoding/Aversive_state_reactivation/notebooks/templates/data/derivatives/preprocessing/sub-001/localiser/sub-001_ses-01_task-AversiveLearningReplay_run-localiser_proc_ICA-epo.fif.gz ...\n",
      "    Read 5 compensation matrices\n",
      "    Found the data of interest:\n",
      "        t =    -500.00 ...     790.00 ms\n",
      "        5 CTF compensation matrices available\n",
      "0 bad epochs dropped\n",
      "Not setting metadata\n",
      "900 matching events found\n",
      "No baseline correction applied\n",
      "0 projection items activated\n",
      "Number of unique events = 14\n",
      "\n",
      "Event types = [ 2  4  6  8 10 12 14 16 18 20 22 24 26 28]\n"
     ]
    }
   ],
   "source": [
    "for session_id_int in range(1, 2):\n",
    "    gc.collect()\n",
    "    session_id = '{:03d}'.format(session_id_int)\n",
    "    print(session_id)\n",
    "\n",
    "    # Get data\n",
    "    localiser_epochs = mne.read_epochs(os.path.join(output_dir, 'preprocessing', 'sub-{}', 'localiser', 'sub-{}_ses-01_task-AversiveLearningReplay_run-localiser_proc_ICA-epo.fif.gz').format(session_id,session_id))  \n",
    "\n",
    "    # Get epoch data\n",
    "    X_raw = localiser_epochs.get_data()  # MEG signals: n_epochs, n_channels, n_times (exclude non MEG channels)\n",
    "    y_raw = localiser_epochs.events[:, 2]  # Get event types\n",
    "\n",
    "    # select events and time period of interest\n",
    "    picks_meg = mne.pick_types(localiser_epochs.info, meg=True, ref_meg=False)\n",
    "    event_selector = (y_raw < n_stim * 2 + 1)\n",
    "    X_raw = X_raw[event_selector, ...]\n",
    "    y_raw = y_raw[event_selector]\n",
    "    X_raw = X_raw[:, picks_meg, :]\n",
    "\n",
    "    assert len(np.unique(y_raw)) == n_stim, \"Found {0} stimuli, expected {1}\".format(len(np.unique(y_raw)), n_stim)\n",
    "\n",
    "    print(\"Number of unique events = {0}\\n\\nEvent types = {1}\".format(len(np.unique(y_raw)),\n",
    "                                                                    np.unique(y_raw)))\n",
    "\n",
    "    times = localiser_epochs.times\n",
    "\n",
    "    prestim_samples = int(np.abs(localiser_epochs.tmin * localiser_epochs.info['sfreq']))\n",
    "    classifier_center_idx = prestim_samples + classifier_center_idx_setting\n",
    "\n",
    "\n",
    "    # Get data\n",
    "    X, y = (X_raw.copy(), y_raw.copy())\n",
    "    X = X[..., classifier_center_idx + classifier_window[0]:classifier_center_idx + classifier_window[1]] \n",
    "\n",
    "    # Preprocess using _clf\n",
    "    _clf = make_pipeline(UnsupervisedSpatialFilter(PCA(50), average=False), \n",
    "                        FunctionTransformer(add_features, validate=False), StandardScaler())\n",
    "    \n",
    "    # Add the new X to a list or something\n",
    "    _X = _clf.fit_transform(X)\n",
    "    list_X.append(_X)\n"
   ]
  },
  {
   "cell_type": "markdown",
   "metadata": {
    "id": "slUZR4P7A9jl"
   },
   "source": [
    "# Followings are tests"
   ]
  },
  {
   "cell_type": "markdown",
   "metadata": {
    "id": "efXAt_NEh7RZ"
   },
   "source": [
    "## Concatenate the input data"
   ]
  },
  {
   "cell_type": "code",
   "execution_count": null,
   "metadata": {
    "collapsed": true,
    "id": "NJsD4FGAA9jm",
    "jupyter": {
     "outputs_hidden": true
    },
    "outputId": "58ac69da-3cac-4703-b64e-446605ce35c1",
    "tags": []
   },
   "outputs": [
    {
     "name": "stdout",
     "output_type": "stream",
     "text": [
      "001\n",
      "Reading /content/drive/MyDrive/MT_ML_Decoding/Aversive_state_reactivation/notebooks/templates/data/derivatives/preprocessing/sub-001/localiser/sub-001_ses-01_task-AversiveLearningReplay_run-localiser_proc_ICA-epo.fif.gz ...\n",
      "    Read 5 compensation matrices\n",
      "    Found the data of interest:\n",
      "        t =    -500.00 ...     790.00 ms\n",
      "        5 CTF compensation matrices available\n",
      "0 bad epochs dropped\n",
      "Not setting metadata\n",
      "900 matching events found\n",
      "No baseline correction applied\n",
      "0 projection items activated\n",
      "Number of unique events = 14\n",
      "\n",
      "Event types = [ 2  4  6  8 10 12 14 16 18 20 22 24 26 28]\n",
      "002\n",
      "Reading /content/drive/MyDrive/MT_ML_Decoding/Aversive_state_reactivation/notebooks/templates/data/derivatives/preprocessing/sub-002/localiser/sub-002_ses-01_task-AversiveLearningReplay_run-localiser_proc_ICA-epo.fif.gz ...\n",
      "    Read 5 compensation matrices\n",
      "    Found the data of interest:\n",
      "        t =    -500.00 ...     790.00 ms\n",
      "        5 CTF compensation matrices available\n",
      "0 bad epochs dropped\n",
      "Not setting metadata\n",
      "900 matching events found\n",
      "No baseline correction applied\n",
      "0 projection items activated\n",
      "Number of unique events = 14\n",
      "\n",
      "Event types = [ 2  4  6  8 10 12 14 16 18 20 22 24 26 28]\n",
      "003\n",
      "Reading /content/drive/MyDrive/MT_ML_Decoding/Aversive_state_reactivation/notebooks/templates/data/derivatives/preprocessing/sub-003/localiser/sub-003_ses-01_task-AversiveLearningReplay_run-localiser_proc_ICA-epo.fif.gz ...\n",
      "    Read 5 compensation matrices\n",
      "    Found the data of interest:\n",
      "        t =    -500.00 ...     790.00 ms\n",
      "        5 CTF compensation matrices available\n",
      "0 bad epochs dropped\n",
      "Not setting metadata\n",
      "900 matching events found\n",
      "No baseline correction applied\n",
      "0 projection items activated\n",
      "Number of unique events = 14\n",
      "\n",
      "Event types = [ 2  4  6  8 10 12 14 16 18 20 22 24 26 28]\n",
      "004\n",
      "Reading /content/drive/MyDrive/MT_ML_Decoding/Aversive_state_reactivation/notebooks/templates/data/derivatives/preprocessing/sub-004/localiser/sub-004_ses-01_task-AversiveLearningReplay_run-localiser_proc_ICA-epo.fif.gz ...\n",
      "    Read 5 compensation matrices\n",
      "    Found the data of interest:\n",
      "        t =    -500.00 ...     790.00 ms\n",
      "        5 CTF compensation matrices available\n",
      "0 bad epochs dropped\n",
      "Not setting metadata\n",
      "900 matching events found\n",
      "No baseline correction applied\n",
      "0 projection items activated\n",
      "Number of unique events = 14\n",
      "\n",
      "Event types = [ 2  4  6  8 10 12 14 16 18 20 22 24 26 28]\n",
      "005\n",
      "Reading /content/drive/MyDrive/MT_ML_Decoding/Aversive_state_reactivation/notebooks/templates/data/derivatives/preprocessing/sub-005/localiser/sub-005_ses-01_task-AversiveLearningReplay_run-localiser_proc_ICA-epo.fif.gz ...\n",
      "    Read 5 compensation matrices\n",
      "    Found the data of interest:\n",
      "        t =    -500.00 ...     790.00 ms\n",
      "        5 CTF compensation matrices available\n",
      "0 bad epochs dropped\n",
      "Not setting metadata\n",
      "900 matching events found\n",
      "No baseline correction applied\n",
      "0 projection items activated\n",
      "Number of unique events = 14\n",
      "\n",
      "Event types = [ 2  4  6  8 10 12 14 16 18 20 22 24 26 28]\n",
      "006\n",
      "Reading /content/drive/MyDrive/MT_ML_Decoding/Aversive_state_reactivation/notebooks/templates/data/derivatives/preprocessing/sub-006/localiser/sub-006_ses-01_task-AversiveLearningReplay_run-localiser_proc_ICA-epo.fif.gz ...\n",
      "    Read 5 compensation matrices\n",
      "    Found the data of interest:\n",
      "        t =    -500.00 ...     790.00 ms\n",
      "        5 CTF compensation matrices available\n",
      "0 bad epochs dropped\n",
      "Not setting metadata\n",
      "895 matching events found\n",
      "No baseline correction applied\n",
      "0 projection items activated\n",
      "Number of unique events = 14\n",
      "\n",
      "Event types = [ 2  4  6  8 10 12 14 16 18 20 22 24 26 28]\n",
      "007\n",
      "Reading /content/drive/MyDrive/MT_ML_Decoding/Aversive_state_reactivation/notebooks/templates/data/derivatives/preprocessing/sub-007/localiser/sub-007_ses-01_task-AversiveLearningReplay_run-localiser_proc_ICA-epo.fif.gz ...\n",
      "    Read 5 compensation matrices\n",
      "    Found the data of interest:\n",
      "        t =    -500.00 ...     790.00 ms\n",
      "        5 CTF compensation matrices available\n",
      "0 bad epochs dropped\n",
      "Not setting metadata\n",
      "900 matching events found\n",
      "No baseline correction applied\n",
      "0 projection items activated\n",
      "Number of unique events = 14\n",
      "\n",
      "Event types = [ 2  4  6  8 10 12 14 16 18 20 22 24 26 28]\n",
      "008\n",
      "Reading /content/drive/MyDrive/MT_ML_Decoding/Aversive_state_reactivation/notebooks/templates/data/derivatives/preprocessing/sub-008/localiser/sub-008_ses-01_task-AversiveLearningReplay_run-localiser_proc_ICA-epo.fif.gz ...\n",
      "    Read 5 compensation matrices\n",
      "    Found the data of interest:\n",
      "        t =    -500.00 ...     790.00 ms\n",
      "        5 CTF compensation matrices available\n",
      "0 bad epochs dropped\n",
      "Not setting metadata\n",
      "900 matching events found\n",
      "No baseline correction applied\n",
      "0 projection items activated\n",
      "Number of unique events = 14\n",
      "\n",
      "Event types = [ 2  4  6  8 10 12 14 16 18 20 22 24 26 28]\n",
      "009\n",
      "Reading /content/drive/MyDrive/MT_ML_Decoding/Aversive_state_reactivation/notebooks/templates/data/derivatives/preprocessing/sub-009/localiser/sub-009_ses-01_task-AversiveLearningReplay_run-localiser_proc_ICA-epo.fif.gz ...\n",
      "    Read 5 compensation matrices\n",
      "    Found the data of interest:\n",
      "        t =    -500.00 ...     790.00 ms\n",
      "        5 CTF compensation matrices available\n",
      "0 bad epochs dropped\n",
      "Not setting metadata\n",
      "900 matching events found\n",
      "No baseline correction applied\n",
      "0 projection items activated\n",
      "Number of unique events = 14\n",
      "\n",
      "Event types = [ 2  4  6  8 10 12 14 16 18 20 22 24 26 28]\n",
      "010\n",
      "Reading /content/drive/MyDrive/MT_ML_Decoding/Aversive_state_reactivation/notebooks/templates/data/derivatives/preprocessing/sub-010/localiser/sub-010_ses-01_task-AversiveLearningReplay_run-localiser_proc_ICA-epo.fif.gz ...\n",
      "    Read 5 compensation matrices\n",
      "    Found the data of interest:\n",
      "        t =    -500.00 ...     790.00 ms\n",
      "        5 CTF compensation matrices available\n",
      "0 bad epochs dropped\n",
      "Not setting metadata\n",
      "900 matching events found\n",
      "No baseline correction applied\n",
      "0 projection items activated\n",
      "Number of unique events = 14\n",
      "\n",
      "Event types = [ 2  4  6  8 10 12 14 16 18 20 22 24 26 28]\n",
      "011\n",
      "Reading /content/drive/MyDrive/MT_ML_Decoding/Aversive_state_reactivation/notebooks/templates/data/derivatives/preprocessing/sub-011/localiser/sub-011_ses-01_task-AversiveLearningReplay_run-localiser_proc_ICA-epo.fif.gz ...\n",
      "    Read 5 compensation matrices\n",
      "    Found the data of interest:\n",
      "        t =    -500.00 ...     790.00 ms\n",
      "        5 CTF compensation matrices available\n",
      "0 bad epochs dropped\n",
      "Not setting metadata\n",
      "900 matching events found\n",
      "No baseline correction applied\n",
      "0 projection items activated\n",
      "Number of unique events = 14\n",
      "\n",
      "Event types = [ 2  4  6  8 10 12 14 16 18 20 22 24 26 28]\n",
      "012\n",
      "Reading /content/drive/MyDrive/MT_ML_Decoding/Aversive_state_reactivation/notebooks/templates/data/derivatives/preprocessing/sub-012/localiser/sub-012_ses-01_task-AversiveLearningReplay_run-localiser_proc_ICA-epo.fif.gz ...\n",
      "    Read 5 compensation matrices\n",
      "    Found the data of interest:\n",
      "        t =    -500.00 ...     790.00 ms\n",
      "        5 CTF compensation matrices available\n",
      "0 bad epochs dropped\n",
      "Not setting metadata\n",
      "852 matching events found\n",
      "No baseline correction applied\n",
      "0 projection items activated\n",
      "Number of unique events = 14\n",
      "\n",
      "Event types = [ 2  4  6  8 10 12 14 16 18 20 22 24 26 28]\n",
      "013\n",
      "Reading /content/drive/MyDrive/MT_ML_Decoding/Aversive_state_reactivation/notebooks/templates/data/derivatives/preprocessing/sub-013/localiser/sub-013_ses-01_task-AversiveLearningReplay_run-localiser_proc_ICA-epo.fif.gz ...\n",
      "    Read 5 compensation matrices\n",
      "    Found the data of interest:\n",
      "        t =    -500.00 ...     790.00 ms\n",
      "        5 CTF compensation matrices available\n",
      "0 bad epochs dropped\n",
      "Not setting metadata\n",
      "900 matching events found\n",
      "No baseline correction applied\n",
      "0 projection items activated\n",
      "Number of unique events = 14\n",
      "\n",
      "Event types = [ 2  4  6  8 10 12 14 16 18 20 22 24 26 28]\n",
      "014\n",
      "Reading /content/drive/MyDrive/MT_ML_Decoding/Aversive_state_reactivation/notebooks/templates/data/derivatives/preprocessing/sub-014/localiser/sub-014_ses-01_task-AversiveLearningReplay_run-localiser_proc_ICA-epo.fif.gz ...\n",
      "    Read 5 compensation matrices\n",
      "    Found the data of interest:\n",
      "        t =    -500.00 ...     790.00 ms\n",
      "        5 CTF compensation matrices available\n",
      "0 bad epochs dropped\n",
      "Not setting metadata\n",
      "898 matching events found\n",
      "No baseline correction applied\n",
      "0 projection items activated\n",
      "Number of unique events = 14\n",
      "\n",
      "Event types = [ 2  4  6  8 10 12 14 16 18 20 22 24 26 28]\n",
      "015\n",
      "Reading /content/drive/MyDrive/MT_ML_Decoding/Aversive_state_reactivation/notebooks/templates/data/derivatives/preprocessing/sub-015/localiser/sub-015_ses-01_task-AversiveLearningReplay_run-localiser_proc_ICA-epo.fif.gz ...\n",
      "    Read 5 compensation matrices\n",
      "    Found the data of interest:\n",
      "        t =    -500.00 ...     790.00 ms\n",
      "        5 CTF compensation matrices available\n",
      "0 bad epochs dropped\n",
      "Not setting metadata\n",
      "900 matching events found\n",
      "No baseline correction applied\n",
      "0 projection items activated\n",
      "Number of unique events = 14\n",
      "\n",
      "Event types = [ 2  4  6  8 10 12 14 16 18 20 22 24 26 28]\n",
      "016\n",
      "Reading /content/drive/MyDrive/MT_ML_Decoding/Aversive_state_reactivation/notebooks/templates/data/derivatives/preprocessing/sub-016/localiser/sub-016_ses-01_task-AversiveLearningReplay_run-localiser_proc_ICA-epo.fif.gz ...\n",
      "    Read 5 compensation matrices\n",
      "    Found the data of interest:\n",
      "        t =    -500.00 ...     790.00 ms\n",
      "        5 CTF compensation matrices available\n",
      "0 bad epochs dropped\n",
      "Not setting metadata\n",
      "900 matching events found\n",
      "No baseline correction applied\n",
      "0 projection items activated\n",
      "Number of unique events = 14\n",
      "\n",
      "Event types = [ 2  4  6  8 10 12 14 16 18 20 22 24 26 28]\n",
      "017\n",
      "Reading /content/drive/MyDrive/MT_ML_Decoding/Aversive_state_reactivation/notebooks/templates/data/derivatives/preprocessing/sub-017/localiser/sub-017_ses-01_task-AversiveLearningReplay_run-localiser_proc_ICA-epo.fif.gz ...\n",
      "    Read 5 compensation matrices\n",
      "    Found the data of interest:\n",
      "        t =    -500.00 ...     790.00 ms\n",
      "        5 CTF compensation matrices available\n",
      "0 bad epochs dropped\n",
      "Not setting metadata\n",
      "900 matching events found\n",
      "No baseline correction applied\n",
      "0 projection items activated\n",
      "Number of unique events = 14\n",
      "\n",
      "Event types = [ 2  4  6  8 10 12 14 16 18 20 22 24 26 28]\n",
      "018\n",
      "Reading /content/drive/MyDrive/MT_ML_Decoding/Aversive_state_reactivation/notebooks/templates/data/derivatives/preprocessing/sub-018/localiser/sub-018_ses-01_task-AversiveLearningReplay_run-localiser_proc_ICA-epo.fif.gz ...\n",
      "    Read 5 compensation matrices\n",
      "    Found the data of interest:\n",
      "        t =    -500.00 ...     790.00 ms\n",
      "        5 CTF compensation matrices available\n",
      "0 bad epochs dropped\n",
      "Not setting metadata\n",
      "900 matching events found\n",
      "No baseline correction applied\n",
      "0 projection items activated\n",
      "Number of unique events = 14\n",
      "\n",
      "Event types = [ 2  4  6  8 10 12 14 16 18 20 22 24 26 28]\n",
      "019\n",
      "Reading /content/drive/MyDrive/MT_ML_Decoding/Aversive_state_reactivation/notebooks/templates/data/derivatives/preprocessing/sub-019/localiser/sub-019_ses-01_task-AversiveLearningReplay_run-localiser_proc_ICA-epo.fif.gz ...\n",
      "    Read 5 compensation matrices\n",
      "    Found the data of interest:\n",
      "        t =    -500.00 ...     790.00 ms\n",
      "        5 CTF compensation matrices available\n",
      "0 bad epochs dropped\n",
      "Not setting metadata\n",
      "900 matching events found\n",
      "No baseline correction applied\n",
      "0 projection items activated\n",
      "Number of unique events = 14\n",
      "\n",
      "Event types = [ 2  4  6  8 10 12 14 16 18 20 22 24 26 28]\n",
      "020\n",
      "Reading /content/drive/MyDrive/MT_ML_Decoding/Aversive_state_reactivation/notebooks/templates/data/derivatives/preprocessing/sub-020/localiser/sub-020_ses-01_task-AversiveLearningReplay_run-localiser_proc_ICA-epo.fif.gz ...\n",
      "    Read 5 compensation matrices\n",
      "    Found the data of interest:\n",
      "        t =    -500.00 ...     790.00 ms\n",
      "        5 CTF compensation matrices available\n",
      "0 bad epochs dropped\n",
      "Not setting metadata\n",
      "900 matching events found\n",
      "No baseline correction applied\n",
      "0 projection items activated\n",
      "Number of unique events = 14\n",
      "\n",
      "Event types = [ 2  4  6  8 10 12 14 16 18 20 22 24 26 28]\n",
      "021\n",
      "Reading /content/drive/MyDrive/MT_ML_Decoding/Aversive_state_reactivation/notebooks/templates/data/derivatives/preprocessing/sub-021/localiser/sub-021_ses-01_task-AversiveLearningReplay_run-localiser_proc_ICA-epo.fif.gz ...\n",
      "    Read 5 compensation matrices\n",
      "    Found the data of interest:\n",
      "        t =    -500.00 ...     790.00 ms\n",
      "        5 CTF compensation matrices available\n",
      "0 bad epochs dropped\n",
      "Not setting metadata\n",
      "900 matching events found\n",
      "No baseline correction applied\n",
      "0 projection items activated\n",
      "Number of unique events = 14\n",
      "\n",
      "Event types = [ 2  4  6  8 10 12 14 16 18 20 22 24 26 28]\n",
      "022\n",
      "Reading /content/drive/MyDrive/MT_ML_Decoding/Aversive_state_reactivation/notebooks/templates/data/derivatives/preprocessing/sub-022/localiser/sub-022_ses-01_task-AversiveLearningReplay_run-localiser_proc_ICA-epo.fif.gz ...\n",
      "    Read 5 compensation matrices\n",
      "    Found the data of interest:\n",
      "        t =    -500.00 ...     790.00 ms\n",
      "        5 CTF compensation matrices available\n",
      "0 bad epochs dropped\n",
      "Not setting metadata\n",
      "900 matching events found\n",
      "No baseline correction applied\n",
      "0 projection items activated\n",
      "Number of unique events = 14\n",
      "\n",
      "Event types = [ 2  4  6  8 10 12 14 16 18 20 22 24 26 28]\n",
      "023\n",
      "Reading /content/drive/MyDrive/MT_ML_Decoding/Aversive_state_reactivation/notebooks/templates/data/derivatives/preprocessing/sub-023/localiser/sub-023_ses-01_task-AversiveLearningReplay_run-localiser_proc_ICA-epo.fif.gz ...\n",
      "    Read 5 compensation matrices\n",
      "    Found the data of interest:\n",
      "        t =    -500.00 ...     790.00 ms\n",
      "        5 CTF compensation matrices available\n",
      "0 bad epochs dropped\n",
      "Not setting metadata\n",
      "901 matching events found\n",
      "No baseline correction applied\n",
      "0 projection items activated\n",
      "Number of unique events = 14\n",
      "\n",
      "Event types = [ 2  4  6  8 10 12 14 16 18 20 22 24 26 28]\n",
      "024\n",
      "Reading /content/drive/MyDrive/MT_ML_Decoding/Aversive_state_reactivation/notebooks/templates/data/derivatives/preprocessing/sub-024/localiser/sub-024_ses-01_task-AversiveLearningReplay_run-localiser_proc_ICA-epo.fif.gz ...\n",
      "    Read 5 compensation matrices\n",
      "    Found the data of interest:\n",
      "        t =    -500.00 ...     790.00 ms\n",
      "        5 CTF compensation matrices available\n",
      "0 bad epochs dropped\n",
      "Not setting metadata\n",
      "900 matching events found\n",
      "No baseline correction applied\n",
      "0 projection items activated\n",
      "Number of unique events = 14\n",
      "\n",
      "Event types = [ 2  4  6  8 10 12 14 16 18 20 22 24 26 28]\n",
      "025\n",
      "Reading /content/drive/MyDrive/MT_ML_Decoding/Aversive_state_reactivation/notebooks/templates/data/derivatives/preprocessing/sub-025/localiser/sub-025_ses-01_task-AversiveLearningReplay_run-localiser_proc_ICA-epo.fif.gz ...\n",
      "    Read 5 compensation matrices\n",
      "    Found the data of interest:\n",
      "        t =    -500.00 ...     790.00 ms\n",
      "        5 CTF compensation matrices available\n",
      "0 bad epochs dropped\n",
      "Not setting metadata\n",
      "900 matching events found\n",
      "No baseline correction applied\n",
      "0 projection items activated\n",
      "Number of unique events = 14\n",
      "\n",
      "Event types = [ 2  4  6  8 10 12 14 16 18 20 22 24 26 28]\n",
      "026\n",
      "Reading /content/drive/MyDrive/MT_ML_Decoding/Aversive_state_reactivation/notebooks/templates/data/derivatives/preprocessing/sub-026/localiser/sub-026_ses-01_task-AversiveLearningReplay_run-localiser_proc_ICA-epo.fif.gz ...\n",
      "    Read 5 compensation matrices\n",
      "    Found the data of interest:\n",
      "        t =    -500.00 ...     790.00 ms\n",
      "        5 CTF compensation matrices available\n",
      "0 bad epochs dropped\n",
      "Not setting metadata\n",
      "900 matching events found\n",
      "No baseline correction applied\n",
      "0 projection items activated\n",
      "Number of unique events = 14\n",
      "\n",
      "Event types = [ 2  4  6  8 10 12 14 16 18 20 22 24 26 28]\n",
      "027\n",
      "Reading /content/drive/MyDrive/MT_ML_Decoding/Aversive_state_reactivation/notebooks/templates/data/derivatives/preprocessing/sub-027/localiser/sub-027_ses-01_task-AversiveLearningReplay_run-localiser_proc_ICA-epo.fif.gz ...\n",
      "    Read 5 compensation matrices\n",
      "    Found the data of interest:\n",
      "        t =    -500.00 ...     790.00 ms\n",
      "        5 CTF compensation matrices available\n",
      "0 bad epochs dropped\n",
      "Not setting metadata\n",
      "900 matching events found\n",
      "No baseline correction applied\n",
      "0 projection items activated\n",
      "Number of unique events = 14\n",
      "\n",
      "Event types = [ 2  4  6  8 10 12 14 16 18 20 22 24 26 28]\n",
      "028\n",
      "Reading /content/drive/MyDrive/MT_ML_Decoding/Aversive_state_reactivation/notebooks/templates/data/derivatives/preprocessing/sub-028/localiser/sub-028_ses-01_task-AversiveLearningReplay_run-localiser_proc_ICA-epo.fif.gz ...\n",
      "    Read 5 compensation matrices\n",
      "    Found the data of interest:\n",
      "        t =    -500.00 ...     790.00 ms\n",
      "        5 CTF compensation matrices available\n",
      "0 bad epochs dropped\n",
      "Not setting metadata\n",
      "900 matching events found\n",
      "No baseline correction applied\n",
      "0 projection items activated\n",
      "Number of unique events = 14\n",
      "\n",
      "Event types = [ 2  4  6  8 10 12 14 16 18 20 22 24 26 28]\n"
     ]
    }
   ],
   "source": [
    "X_append = []\n",
    "for session_id_int in range(1, 29):\n",
    "    session_id = '{:03d}'.format(session_id_int)\n",
    "    print(session_id)\n",
    "    # Get data\n",
    "    # if session_id_int == 1:\n",
    "        # localiser_epochs_concatenate = mne.read_epochs(os.path.join(output_dir, 'preprocessing', 'sub-001', 'localiser', 'sub-001_ses-01_task-AversiveLearningReplay_run-localiser_proc_ICA-epo.fif.gz')) \n",
    "    # else:\n",
    "    localiser_epochs = mne.read_epochs(os.path.join(output_dir, 'preprocessing', 'sub-{}', 'localiser', 'sub-{}_ses-01_task-AversiveLearningReplay_run-localiser_proc_ICA-epo.fif.gz').format(session_id,session_id))  \n",
    "    # localiser_epochs.info = localiser_epochs_concatenate.info #Q:Info varies?\n",
    "    # localiser_epochs_concatenate = mne.concatenate_epochs([localiser_epochs_concatenate, localiser_epochs]) \n",
    "    X_raw = localiser_epochs.get_data()\n",
    "    y_raw = localiser_epochs.events[:, 2]\n",
    "\n",
    "    picks_meg = mne.pick_types(localiser_epochs.info, meg=True, ref_meg=False)\n",
    "    event_selector = (y_raw < n_stim * 2 + 1)\n",
    "    X_raw = X_raw[event_selector, ...]\n",
    "    X_raw = X_raw[:, picks_meg, :]\n",
    "\n",
    "    assert len(np.unique(y_raw)) == n_stim, \"Found {0} stimuli, expected {1}\".format(len(np.unique(y_raw)), n_stim)\n",
    "\n",
    "    print(\"Number of unique events = {0}\\n\\nEvent types = {1}\".format(len(np.unique(y_raw)),\n",
    "                                                                    np.unique(y_raw)))\n",
    "\n",
    "    times = localiser_epochs.times\n",
    "    prestim_samples = int(np.abs(localiser_epochs.tmin * localiser_epochs.info['sfreq']))\n",
    "    classifier_center_idx = prestim_samples + classifier_center_idx_setting\n",
    "\n",
    "    X = X_raw.copy()\n",
    "    classifier_center_idx = classifier_center_idx_setting\n",
    "    X = X[..., classifier_center_idx + classifier_window[0]:classifier_center_idx + classifier_window[1]] \n",
    "\n",
    "    X_append.append(X)\n",
    "    \n",
    "# for epoch in localiser_epochs_concatenate:\n",
    "#     print(epoch.shape)\n",
    "# localiser_epochs = mne.concatenate_epochs(localiser_epochs_concatenate)\n",
    "\n",
    "X_append_correct = [i for i in X_append if i.shape[0] == 900]\n",
    "\n",
    "X_4D = np.stack(X_append_correct)\n"
   ]
  },
  {
   "cell_type": "markdown",
   "metadata": {
    "id": "4bSrTjeGh7Ra"
   },
   "source": [
    "## Test for sequenceness classifier with concatenated data"
   ]
  },
  {
   "cell_type": "code",
   "execution_count": null,
   "metadata": {
    "id": "ecVCc8tRt8iS",
    "outputId": "0e8c0209-a10a-4dfc-8cac-b97fd8e2b724"
   },
   "outputs": [
    {
     "data": {
      "text/plain": [
       "(24, 900, 272, 11)"
      ]
     },
     "execution_count": 9,
     "metadata": {},
     "output_type": "execute_result"
    }
   ],
   "source": [
    "X_4D.shape"
   ]
  },
  {
   "cell_type": "code",
   "execution_count": null,
   "metadata": {
    "colab": {
     "base_uri": "https://localhost:8080/",
     "height": 370
    },
    "executionInfo": {
     "elapsed": 80396,
     "status": "ok",
     "timestamp": 1652287849463,
     "user": {
      "displayName": "Lei Luo",
      "userId": "12117982536677976370"
     },
     "user_tz": -60
    },
    "id": "_5EMU9NdA9jo",
    "outputId": "d0195158-c5f6-4145-f85e-bc8c76a9c8f2"
   },
   "outputs": [
    {
     "name": "stdout",
     "output_type": "stream",
     "text": [
      "Number of unique events = 14\n",
      "\n",
      "Event types = [ 2  4  6  8 10 12 14 16 18 20 22 24 26 28]\n",
      "Fitting 5 folds for each of 100 candidates, totalling 500 fits\n"
     ]
    },
    {
     "data": {
      "text/html": [
       "        <script type=\"text/javascript\">\n",
       "        window.PlotlyConfig = {MathJaxConfig: 'local'};\n",
       "        if (window.MathJax) {MathJax.Hub.Config({SVG: {font: \"STIX-Web\"}});}\n",
       "        if (typeof require !== 'undefined') {\n",
       "        require.undef(\"plotly\");\n",
       "        requirejs.config({\n",
       "            paths: {\n",
       "                'plotly': ['https://cdn.plot.ly/plotly-2.8.3.min']\n",
       "            }\n",
       "        });\n",
       "        require(['plotly'], function(Plotly) {\n",
       "            window._Plotly = Plotly;\n",
       "        });\n",
       "        }\n",
       "        </script>\n",
       "        "
      ]
     },
     "metadata": {},
     "output_type": "display_data"
    },
    {
     "name": "stdout",
     "output_type": "stream",
     "text": [
      "Mean accuracy = 0.4488888888888889\n"
     ]
    },
    {
     "data": {
      "image/png": "[encoded data removed]",
      "text/plain": [
       "<Figure size 432x288 with 2 Axes>"
      ]
     },
     "metadata": {
      "needs_background": "light"
     },
     "output_type": "display_data"
    }
   ],
   "source": [
    "# Get epoch data\n",
    "X_raw = localiser_epochs.get_data()  # MEG signals: n_epochs, n_channels, n_times (exclude non MEG channels)\n",
    "y_raw = localiser_epochs.events[:, 2]  # Get event types\n",
    "\n",
    "# select events and time period of interest\n",
    "picks_meg = mne.pick_types(localiser_epochs.info, meg=True, ref_meg=False)\n",
    "event_selector = (y_raw < n_stim * 2 + 1)\n",
    "X_raw = X_raw[event_selector, ...]\n",
    "y_raw = y_raw[event_selector]\n",
    "X_raw = X_raw[:, picks_meg, :]\n",
    "\n",
    "assert len(np.unique(y_raw)) == n_stim, \"Found {0} stimuli, expected {1}\".format(len(np.unique(y_raw)), n_stim)\n",
    "\n",
    "print(\"Number of unique events = {0}\\n\\nEvent types = {1}\".format(len(np.unique(y_raw)),\n",
    "                                                                np.unique(y_raw)))\n",
    "\n",
    "times = localiser_epochs.times\n",
    "\n",
    "prestim_samples = int(np.abs(localiser_epochs.tmin * localiser_epochs.info['sfreq']))\n",
    "classifier_center_idx = prestim_samples + classifier_center_idx_setting\n",
    "\n",
    "\n",
    "# Get data\n",
    "X, y = (X_raw.copy(), y_raw.copy())\n",
    "X = X[..., classifier_center_idx + classifier_window[0]:classifier_center_idx + classifier_window[1]] \n",
    "\n",
    "#Create null data\n",
    "# X_null = np.zeros((X.shape[0], 272, np.sum(np.abs(classifier_window))))\n",
    "# for n, i in enumerate(np.random.randint(np.sum(np.abs(classifier_window)), prestim_samples, X.shape[0])):\n",
    "#     X_null[n, :, :] = X_raw[n, :, i:np.sum(np.abs(classifier_window)) + i]\n",
    "# y_null = np.ones(X_null.shape[0]) * 99\n",
    "# X = np.vstack([X, X_null])\n",
    "# y = np.hstack([y, y_null])\n",
    "\n",
    "# # Create a pipiline that combines PCA, feature augmentation, scaling, and the logistic regression classifier\n",
    "clf = make_pipeline(UnsupervisedSpatialFilter(PCA(50), average=False), \n",
    "                    FunctionTransformer(add_features, validate=False), StandardScaler(), \n",
    "                    LogisticRegression(multi_class=classifier_multiclass, C=0.1, penalty=classifier_regularisation, solver='saga', max_iter=100000, tol=0.2, class_weight=\"balanced\"))\n",
    "# # Parameter distributions passed to the random search procedure\n",
    "param_dist = {\"unsupervisedspatialfilter__estimator__n_components\": range(*n_pca_components),\n",
    "            \"logisticregression__C\": halfcauchy(scale=5)}\n",
    "\n",
    "# # run randomized search\n",
    "random_search = RandomizedSearchCV(clf, param_distributions=param_dist,\n",
    "                                n_iter=n_iter_search, cv=param_optimisation_cv, n_jobs=8, scoring='accuracy', verbose=True)\n",
    "random_search.fit(X, y)\n",
    "\n",
    "# # Produce a dataframe of the search results\n",
    "results = pd.DataFrame(random_search.cv_results_)\n",
    "\n",
    "#print(\"Parameter optimisation done\")\n",
    "\n",
    "\n",
    "init_notebook_mode(connected=True)\n",
    "\n",
    "trace = go.Mesh3d(x=results.param_logisticregression__C,\n",
    "                y=results.param_unsupervisedspatialfilter__estimator__n_components,\n",
    "                z=results.mean_test_score, \n",
    "                color='#275fb5', opacity=0.20)\n",
    "\n",
    "layout = go.Layout(\n",
    "    title='Hyperparameter optimisation results',\n",
    "    autosize=True,\n",
    "    width=700,\n",
    "    height=700,\n",
    "    scene = dict(\n",
    "    xaxis = dict(\n",
    "        title='Logistic regression C'),\n",
    "    yaxis = dict(\n",
    "        title='PCA N components'),\n",
    "    zaxis = dict(\n",
    "        title='Mean accuracy'),)\n",
    ")\n",
    "\n",
    "fig = go.Figure(data=[trace], layout=layout)\n",
    "#iplot(fig)\n",
    "\n",
    "\n",
    "clf.set_params(**random_search.best_params_)\n",
    "\n",
    "# Get predictions with 5 fold CV\n",
    "y_pred = cross_val_predict(clf, X, y, cv=confusion_matrix_cv)\n",
    "mean_conf_mat = confusion_matrix(y, y_pred)\n",
    "mean_accuracy = accuracy_score(y[y != 99], y_pred[y != 99])\n",
    "mean_conf_mat = mean_conf_mat.astype('float') / mean_conf_mat.sum(axis=1)  # normalise\n",
    "list_mean_accuracy.append(mean_accuracy)\n",
    "print(\"Mean accuracy = {0}\".format(mean_accuracy))\n",
    "    \n",
    "ConfusionMatrixDisplay.from_predictions(y, y_pred)\n",
    "#plt.savefig('/content/drive/MyDrive/MT_ML_Decoding/Aversive_state_reactivation/notebooks/templates/save_folder/fig-{}.png'.format(session_id), dpi=600)\n",
    "plt.show()"
   ]
  },
  {
   "cell_type": "markdown",
   "metadata": {
    "id": "c7BEJPaqA9jq"
   },
   "source": [
    "## GridSearchCV"
   ]
  },
  {
   "cell_type": "code",
   "execution_count": null,
   "metadata": {
    "id": "5Y4nTKjWA9jr",
    "outputId": "6944735b-5a39-4f9a-8e01-165472be1723",
    "tags": []
   },
   "outputs": [
    {
     "name": "stdout",
     "output_type": "stream",
     "text": [
      "Number of unique events = 14\n",
      "\n",
      "Event types = [ 2  4  6  8 10 12 14 16 18 20 22 24 26 28]\n",
      "Fitting 5 folds for each of 900 candidates, totalling 4500 fits\n"
     ]
    },
    {
     "data": {
      "text/html": [
       "        <script type=\"text/javascript\">\n",
       "        window.PlotlyConfig = {MathJaxConfig: 'local'};\n",
       "        if (window.MathJax) {MathJax.Hub.Config({SVG: {font: \"STIX-Web\"}});}\n",
       "        if (typeof require !== 'undefined') {\n",
       "        require.undef(\"plotly\");\n",
       "        requirejs.config({\n",
       "            paths: {\n",
       "                'plotly': ['https://cdn.plot.ly/plotly-2.8.3.min']\n",
       "            }\n",
       "        });\n",
       "        require(['plotly'], function(Plotly) {\n",
       "            window._Plotly = Plotly;\n",
       "        });\n",
       "        }\n",
       "        </script>\n",
       "        "
      ]
     },
     "metadata": {},
     "output_type": "display_data"
    },
    {
     "name": "stdout",
     "output_type": "stream",
     "text": [
      "Mean accuracy = 0.45111111111111113\n"
     ]
    },
    {
     "data": {
      "image/png": "[encoded data removed]",
      "text/plain": [
       "<Figure size 432x288 with 2 Axes>"
      ]
     },
     "metadata": {
      "needs_background": "light"
     },
     "output_type": "display_data"
    }
   ],
   "source": [
    "# Get epoch data\n",
    "X_raw = localiser_epochs.get_data()  # MEG signals: n_epochs, n_channels, n_times (exclude non MEG channels)\n",
    "y_raw = localiser_epochs.events[:, 2]  # Get event types\n",
    "\n",
    "# select events and time period of interest\n",
    "picks_meg = mne.pick_types(localiser_epochs.info, meg=True, ref_meg=False)\n",
    "event_selector = (y_raw < n_stim * 2 + 1)\n",
    "X_raw = X_raw[event_selector, ...]\n",
    "y_raw = y_raw[event_selector]\n",
    "X_raw = X_raw[:, picks_meg, :]\n",
    "\n",
    "assert len(np.unique(y_raw)) == n_stim, \"Found {0} stimuli, expected {1}\".format(len(np.unique(y_raw)), n_stim)\n",
    "\n",
    "print(\"Number of unique events = {0}\\n\\nEvent types = {1}\".format(len(np.unique(y_raw)),\n",
    "                                                                np.unique(y_raw)))\n",
    "\n",
    "times = localiser_epochs.times\n",
    "\n",
    "prestim_samples = int(np.abs(localiser_epochs.tmin * localiser_epochs.info['sfreq']))\n",
    "classifier_center_idx = prestim_samples + classifier_center_idx_setting\n",
    "\n",
    "\n",
    "# Get data\n",
    "X, y = (X_raw.copy(), y_raw.copy())\n",
    "X = X[..., classifier_center_idx + classifier_window[0]:classifier_center_idx + classifier_window[1]] \n",
    "\n",
    "#Create null data\n",
    "# X_null = np.zeros((X.shape[0], 272, np.sum(np.abs(classifier_window))))\n",
    "# for n, i in enumerate(np.random.randint(np.sum(np.abs(classifier_window)), prestim_samples, X.shape[0])):\n",
    "#     X_null[n, :, :] = X_raw[n, :, i:np.sum(np.abs(classifier_window)) + i]\n",
    "# y_null = np.ones(X_null.shape[0]) * 99\n",
    "# X = np.vstack([X, X_null])\n",
    "# y = np.hstack([y, y_null])\n",
    "\n",
    "# Create a pipiline that combines PCA, feature augmentation, scaling, and the logistic regression classifier\n",
    "clf = make_pipeline(UnsupervisedSpatialFilter(PCA(50), average=False), \n",
    "                    FunctionTransformer(add_features, validate=False), StandardScaler(), \n",
    "                    LogisticRegression(multi_class=classifier_multiclass, C=0.1, penalty=classifier_regularisation, solver='saga', max_iter=100000, tol=0.2, class_weight=\"balanced\"))\n",
    "# # Parameter distributions passed to the random search procedure\n",
    "param_grid_ = {\"unsupervisedspatialfilter__estimator__n_components\": range(*n_pca_components),\n",
    "                \"logisticregression__C\": range(*n_pca_components)}\n",
    "\n",
    "# # run grid search\n",
    "random_search = GridSearchCV(clf, param_grid=param_grid_,\n",
    "                                cv=param_optimisation_cv, n_jobs=8, scoring='accuracy', verbose=True)\n",
    "random_search.fit(X, y)\n",
    "\n",
    "# # Produce a dataframe of the search results\n",
    "results = pd.DataFrame(random_search.cv_results_)\n",
    "\n",
    "#print(\"Parameter optimisation done\")\n",
    "\n",
    "\n",
    "init_notebook_mode(connected=True)\n",
    "\n",
    "trace = go.Mesh3d(x=results.param_logisticregression__C,\n",
    "                y=results.param_unsupervisedspatialfilter__estimator__n_components,\n",
    "                z=results.mean_test_score, \n",
    "                color='#275fb5', opacity=0.20)\n",
    "\n",
    "layout = go.Layout(\n",
    "    title='Hyperparameter optimisation results',\n",
    "    autosize=True,\n",
    "    width=700,\n",
    "    height=700,\n",
    "    scene = dict(\n",
    "    xaxis = dict(\n",
    "        title='Logistic regression C'),\n",
    "    yaxis = dict(\n",
    "        title='PCA N components'),\n",
    "    zaxis = dict(\n",
    "        title='Mean accuracy'),)\n",
    ")\n",
    "\n",
    "fig = go.Figure(data=[trace], layout=layout)\n",
    "#iplot(fig)\n",
    "\n",
    "\n",
    "clf.set_params(**random_search.best_params_)\n",
    "\n",
    "# Get predictions with 5 fold CV\n",
    "y_pred = cross_val_predict(clf, X, y, cv=confusion_matrix_cv)\n",
    "mean_conf_mat = confusion_matrix(y, y_pred)\n",
    "mean_accuracy = accuracy_score(y[y != 99], y_pred[y != 99])\n",
    "mean_conf_mat = mean_conf_mat.astype('float') / mean_conf_mat.sum(axis=1)  # normalise\n",
    "list_mean_accuracy.append(mean_accuracy)\n",
    "print(\"Mean accuracy = {0}\".format(mean_accuracy))\n",
    "    \n",
    "ConfusionMatrixDisplay.from_predictions(y, y_pred)\n",
    "#plt.savefig('/content/drive/MyDrive/MT_ML_Decoding/Aversive_state_reactivation/notebooks/templates/save_folder/fig-{}.png'.format(session_id), dpi=600)\n",
    "plt.show()"
   ]
  },
  {
   "cell_type": "code",
   "execution_count": null,
   "metadata": {
    "colab": {
     "background_save": true,
     "base_uri": "https://localhost:8080/"
    },
    "executionInfo": {
     "elapsed": 7,
     "status": "ok",
     "timestamp": 1651940452232,
     "user": {
      "displayName": "Lei Luo",
      "userId": "12117982536677976370"
     },
     "user_tz": -60
    },
    "id": "dQU_drIpANzL",
    "outputId": "823db575-71a7-4a64-b63b-e99d8d052e53"
   },
   "outputs": [
    {
     "name": "stdout",
     "output_type": "stream",
     "text": [
      "mean accuracy=  [0.22555555555555556, 0.4488888888888889, 0.45111111111111113]\n",
      "X=  [array([[ 1.67084102,  1.81981215,  0.95441083, ..., -0.89742443,\n",
      "        -0.75962639, -0.16029039],\n",
      "       [ 0.57502468,  0.81867414,  0.45934392, ..., -2.43077006,\n",
      "         0.05205246,  0.42555585],\n",
      "       [-0.97654902, -0.5276468 , -0.83112727, ..., -0.22030827,\n",
      "         1.04485658, -1.20613828],\n",
      "       ...,\n",
      "       [-1.57536624, -0.80519884,  0.15542786, ...,  0.40671173,\n",
      "         1.2213945 ,  0.46473115],\n",
      "       [-0.09885255, -0.00875555, -1.04205136, ...,  1.02219006,\n",
      "        -0.62598616, -1.61447144],\n",
      "       [ 1.20124629,  1.34701544,  1.12605671, ...,  0.85420226,\n",
      "         0.70125123,  0.54394725]])]\n"
     ]
    }
   ],
   "source": [
    "print('mean accuracy= ', list_mean_accuracy)\n",
    "print('X= ', list_X)"
   ]
  },
  {
   "cell_type": "markdown",
   "metadata": {
    "id": "52Y8d1Vai6l4"
   },
   "source": [
    "# CNN"
   ]
  },
  {
   "cell_type": "markdown",
   "metadata": {
    "id": "jPnYrBnWjDIE"
   },
   "source": [
    "## Package installation and import"
   ]
  },
  {
   "cell_type": "code",
   "execution_count": null,
   "metadata": {
    "colab": {
     "base_uri": "https://localhost:8080/"
    },
    "executionInfo": {
     "elapsed": 17910,
     "status": "ok",
     "timestamp": 1652976530176,
     "user": {
      "displayName": "Lei Luo",
      "userId": "12117982536677976370"
     },
     "user_tz": -60
    },
    "id": "AZ61uPB4j4Oo",
    "outputId": "3f10371f-f93b-4780-cd2a-18ece604cf2a"
   },
   "outputs": [
    {
     "name": "stdout",
     "output_type": "stream",
     "text": [
      "Mounted at /content/drive\n"
     ]
    }
   ],
   "source": [
    "from google.colab import drive\n",
    "drive.mount('/content/drive')"
   ]
  },
  {
   "cell_type": "code",
   "execution_count": null,
   "metadata": {
    "colab": {
     "base_uri": "https://localhost:8080/"
    },
    "collapsed": true,
    "executionInfo": {
     "elapsed": 16439,
     "status": "ok",
     "timestamp": 1652976546607,
     "user": {
      "displayName": "Lei Luo",
      "userId": "12117982536677976370"
     },
     "user_tz": -60
    },
    "id": "NsGsc_lKi6S4",
    "jupyter": {
     "outputs_hidden": true
    },
    "outputId": "993bcf78-6684-4185-8558-525f13c6ca10",
    "tags": []
   },
   "outputs": [
    {
     "name": "stdout",
     "output_type": "stream",
     "text": [
      "Collecting mne\n",
      "  Downloading mne-1.0.3-py3-none-any.whl (7.5 MB)\n",
      "\u001b[K     |████████████████████████████████| 7.5 MB 4.1 MB/s \n",
      "\u001b[?25hRequirement already satisfied: decorator in /usr/local/lib/python3.7/dist-packages (from mne) (4.4.2)\n",
      "Requirement already satisfied: packaging in /usr/local/lib/python3.7/dist-packages (from mne) (21.3)\n",
      "Requirement already satisfied: matplotlib in /usr/local/lib/python3.7/dist-packages (from mne) (3.2.2)\n",
      "Requirement already satisfied: jinja2 in /usr/local/lib/python3.7/dist-packages (from mne) (2.11.3)\n",
      "Requirement already satisfied: numpy>=1.15.4 in /usr/local/lib/python3.7/dist-packages (from mne) (1.21.6)\n",
      "Requirement already satisfied: pooch>=1.5 in /usr/local/lib/python3.7/dist-packages (from mne) (1.6.0)\n",
      "Requirement already satisfied: tqdm in /usr/local/lib/python3.7/dist-packages (from mne) (4.64.0)\n",
      "Requirement already satisfied: scipy>=1.1.0 in /usr/local/lib/python3.7/dist-packages (from mne) (1.4.1)\n",
      "Requirement already satisfied: appdirs>=1.3.0 in /usr/local/lib/python3.7/dist-packages (from pooch>=1.5->mne) (1.4.4)\n",
      "Requirement already satisfied: requests>=2.19.0 in /usr/local/lib/python3.7/dist-packages (from pooch>=1.5->mne) (2.23.0)\n",
      "Requirement already satisfied: pyparsing!=3.0.5,>=2.0.2 in /usr/local/lib/python3.7/dist-packages (from packaging->mne) (3.0.9)\n",
      "Requirement already satisfied: chardet<4,>=3.0.2 in /usr/local/lib/python3.7/dist-packages (from requests>=2.19.0->pooch>=1.5->mne) (3.0.4)\n",
      "Requirement already satisfied: urllib3!=1.25.0,!=1.25.1,<1.26,>=1.21.1 in /usr/local/lib/python3.7/dist-packages (from requests>=2.19.0->pooch>=1.5->mne) (1.24.3)\n",
      "Requirement already satisfied: idna<3,>=2.5 in /usr/local/lib/python3.7/dist-packages (from requests>=2.19.0->pooch>=1.5->mne) (2.10)\n",
      "Requirement already satisfied: certifi>=2017.4.17 in /usr/local/lib/python3.7/dist-packages (from requests>=2.19.0->pooch>=1.5->mne) (2021.10.8)\n",
      "Requirement already satisfied: MarkupSafe>=0.23 in /usr/local/lib/python3.7/dist-packages (from jinja2->mne) (2.0.1)\n",
      "Requirement already satisfied: python-dateutil>=2.1 in /usr/local/lib/python3.7/dist-packages (from matplotlib->mne) (2.8.2)\n",
      "Requirement already satisfied: kiwisolver>=1.0.1 in /usr/local/lib/python3.7/dist-packages (from matplotlib->mne) (1.4.2)\n",
      "Requirement already satisfied: cycler>=0.10 in /usr/local/lib/python3.7/dist-packages (from matplotlib->mne) (0.11.0)\n",
      "Requirement already satisfied: typing-extensions in /usr/local/lib/python3.7/dist-packages (from kiwisolver>=1.0.1->matplotlib->mne) (4.2.0)\n",
      "Requirement already satisfied: six>=1.5 in /usr/local/lib/python3.7/dist-packages (from python-dateutil>=2.1->matplotlib->mne) (1.15.0)\n",
      "Installing collected packages: mne\n",
      "Successfully installed mne-1.0.3\n",
      "Requirement already satisfied: sklearn in /usr/local/lib/python3.7/dist-packages (0.0)\n",
      "Requirement already satisfied: scikit-learn in /usr/local/lib/python3.7/dist-packages (from sklearn) (1.0.2)\n",
      "Requirement already satisfied: threadpoolctl>=2.0.0 in /usr/local/lib/python3.7/dist-packages (from scikit-learn->sklearn) (3.1.0)\n",
      "Requirement already satisfied: joblib>=0.11 in /usr/local/lib/python3.7/dist-packages (from scikit-learn->sklearn) (1.1.0)\n",
      "Requirement already satisfied: scipy>=1.1.0 in /usr/local/lib/python3.7/dist-packages (from scikit-learn->sklearn) (1.4.1)\n",
      "Requirement already satisfied: numpy>=1.14.6 in /usr/local/lib/python3.7/dist-packages (from scikit-learn->sklearn) (1.21.6)\n",
      "Requirement already satisfied: tensorflow in /usr/local/lib/python3.7/dist-packages (2.8.0+zzzcolab20220506162203)\n",
      "Collecting tf-estimator-nightly==2.8.0.dev2021122109\n",
      "  Downloading tf_estimator_nightly-2.8.0.dev2021122109-py2.py3-none-any.whl (462 kB)\n",
      "\u001b[K     |████████████████████████████████| 462 kB 4.1 MB/s \n",
      "\u001b[?25hRequirement already satisfied: keras-preprocessing>=1.1.1 in /usr/local/lib/python3.7/dist-packages (from tensorflow) (1.1.2)\n",
      "Requirement already satisfied: libclang>=9.0.1 in /usr/local/lib/python3.7/dist-packages (from tensorflow) (14.0.1)\n",
      "Requirement already satisfied: keras<2.9,>=2.8.0rc0 in /usr/local/lib/python3.7/dist-packages (from tensorflow) (2.8.0)\n",
      "Requirement already satisfied: astunparse>=1.6.0 in /usr/local/lib/python3.7/dist-packages (from tensorflow) (1.6.3)\n",
      "Requirement already satisfied: tensorboard<2.9,>=2.8 in /usr/local/lib/python3.7/dist-packages (from tensorflow) (2.8.0)\n",
      "Requirement already satisfied: flatbuffers>=1.12 in /usr/local/lib/python3.7/dist-packages (from tensorflow) (2.0)\n",
      "Requirement already satisfied: h5py>=2.9.0 in /usr/local/lib/python3.7/dist-packages (from tensorflow) (3.1.0)\n",
      "Requirement already satisfied: tensorflow-io-gcs-filesystem>=0.23.1 in /usr/local/lib/python3.7/dist-packages (from tensorflow) (0.25.0)\n",
      "Requirement already satisfied: grpcio<2.0,>=1.24.3 in /usr/local/lib/python3.7/dist-packages (from tensorflow) (1.46.1)\n",
      "Requirement already satisfied: google-pasta>=0.1.1 in /usr/local/lib/python3.7/dist-packages (from tensorflow) (0.2.0)\n",
      "Requirement already satisfied: typing-extensions>=3.6.6 in /usr/local/lib/python3.7/dist-packages (from tensorflow) (4.2.0)\n",
      "Requirement already satisfied: numpy>=1.20 in /usr/local/lib/python3.7/dist-packages (from tensorflow) (1.21.6)\n",
      "Requirement already satisfied: termcolor>=1.1.0 in /usr/local/lib/python3.7/dist-packages (from tensorflow) (1.1.0)\n",
      "Requirement already satisfied: six>=1.12.0 in /usr/local/lib/python3.7/dist-packages (from tensorflow) (1.15.0)\n",
      "Requirement already satisfied: gast>=0.2.1 in /usr/local/lib/python3.7/dist-packages (from tensorflow) (0.5.3)\n",
      "Requirement already satisfied: wrapt>=1.11.0 in /usr/local/lib/python3.7/dist-packages (from tensorflow) (1.14.1)\n",
      "Requirement already satisfied: opt-einsum>=2.3.2 in /usr/local/lib/python3.7/dist-packages (from tensorflow) (3.3.0)\n",
      "Requirement already satisfied: setuptools in /usr/local/lib/python3.7/dist-packages (from tensorflow) (57.4.0)\n",
      "Requirement already satisfied: absl-py>=0.4.0 in /usr/local/lib/python3.7/dist-packages (from tensorflow) (1.0.0)\n",
      "Requirement already satisfied: protobuf>=3.9.2 in /usr/local/lib/python3.7/dist-packages (from tensorflow) (3.17.3)\n",
      "Requirement already satisfied: wheel<1.0,>=0.23.0 in /usr/local/lib/python3.7/dist-packages (from astunparse>=1.6.0->tensorflow) (0.37.1)\n",
      "Requirement already satisfied: cached-property in /usr/local/lib/python3.7/dist-packages (from h5py>=2.9.0->tensorflow) (1.5.2)\n",
      "Requirement already satisfied: requests<3,>=2.21.0 in /usr/local/lib/python3.7/dist-packages (from tensorboard<2.9,>=2.8->tensorflow) (2.23.0)\n",
      "Requirement already satisfied: tensorboard-plugin-wit>=1.6.0 in /usr/local/lib/python3.7/dist-packages (from tensorboard<2.9,>=2.8->tensorflow) (1.8.1)\n",
      "Requirement already satisfied: tensorboard-data-server<0.7.0,>=0.6.0 in /usr/local/lib/python3.7/dist-packages (from tensorboard<2.9,>=2.8->tensorflow) (0.6.1)\n",
      "Requirement already satisfied: google-auth-oauthlib<0.5,>=0.4.1 in /usr/local/lib/python3.7/dist-packages (from tensorboard<2.9,>=2.8->tensorflow) (0.4.6)\n",
      "Requirement already satisfied: markdown>=2.6.8 in /usr/local/lib/python3.7/dist-packages (from tensorboard<2.9,>=2.8->tensorflow) (3.3.7)\n",
      "Requirement already satisfied: google-auth<3,>=1.6.3 in /usr/local/lib/python3.7/dist-packages (from tensorboard<2.9,>=2.8->tensorflow) (1.35.0)\n",
      "Requirement already satisfied: werkzeug>=0.11.15 in /usr/local/lib/python3.7/dist-packages (from tensorboard<2.9,>=2.8->tensorflow) (1.0.1)\n",
      "Requirement already satisfied: cachetools<5.0,>=2.0.0 in /usr/local/lib/python3.7/dist-packages (from google-auth<3,>=1.6.3->tensorboard<2.9,>=2.8->tensorflow) (4.2.4)\n",
      "Requirement already satisfied: rsa<5,>=3.1.4 in /usr/local/lib/python3.7/dist-packages (from google-auth<3,>=1.6.3->tensorboard<2.9,>=2.8->tensorflow) (4.8)\n",
      "Requirement already satisfied: pyasn1-modules>=0.2.1 in /usr/local/lib/python3.7/dist-packages (from google-auth<3,>=1.6.3->tensorboard<2.9,>=2.8->tensorflow) (0.2.8)\n",
      "Requirement already satisfied: requests-oauthlib>=0.7.0 in /usr/local/lib/python3.7/dist-packages (from google-auth-oauthlib<0.5,>=0.4.1->tensorboard<2.9,>=2.8->tensorflow) (1.3.1)\n",
      "Requirement already satisfied: importlib-metadata>=4.4 in /usr/local/lib/python3.7/dist-packages (from markdown>=2.6.8->tensorboard<2.9,>=2.8->tensorflow) (4.11.3)\n",
      "Requirement already satisfied: zipp>=0.5 in /usr/local/lib/python3.7/dist-packages (from importlib-metadata>=4.4->markdown>=2.6.8->tensorboard<2.9,>=2.8->tensorflow) (3.8.0)\n",
      "Requirement already satisfied: pyasn1<0.5.0,>=0.4.6 in /usr/local/lib/python3.7/dist-packages (from pyasn1-modules>=0.2.1->google-auth<3,>=1.6.3->tensorboard<2.9,>=2.8->tensorflow) (0.4.8)\n",
      "Requirement already satisfied: certifi>=2017.4.17 in /usr/local/lib/python3.7/dist-packages (from requests<3,>=2.21.0->tensorboard<2.9,>=2.8->tensorflow) (2021.10.8)\n",
      "Requirement already satisfied: urllib3!=1.25.0,!=1.25.1,<1.26,>=1.21.1 in /usr/local/lib/python3.7/dist-packages (from requests<3,>=2.21.0->tensorboard<2.9,>=2.8->tensorflow) (1.24.3)\n",
      "Requirement already satisfied: idna<3,>=2.5 in /usr/local/lib/python3.7/dist-packages (from requests<3,>=2.21.0->tensorboard<2.9,>=2.8->tensorflow) (2.10)\n",
      "Requirement already satisfied: chardet<4,>=3.0.2 in /usr/local/lib/python3.7/dist-packages (from requests<3,>=2.21.0->tensorboard<2.9,>=2.8->tensorflow) (3.0.4)\n",
      "Requirement already satisfied: oauthlib>=3.0.0 in /usr/local/lib/python3.7/dist-packages (from requests-oauthlib>=0.7.0->google-auth-oauthlib<0.5,>=0.4.1->tensorboard<2.9,>=2.8->tensorflow) (3.2.0)\n",
      "Installing collected packages: tf-estimator-nightly\n",
      "Successfully installed tf-estimator-nightly-2.8.0.dev2021122109\n",
      "Collecting dm-haiku\n",
      "  Downloading dm_haiku-0.0.6-py3-none-any.whl (309 kB)\n",
      "\u001b[K     |████████████████████████████████| 309 kB 4.1 MB/s \n",
      "\u001b[?25hRequirement already satisfied: absl-py>=0.7.1 in /usr/local/lib/python3.7/dist-packages (from dm-haiku) (1.0.0)\n",
      "Requirement already satisfied: tabulate>=0.8.9 in /usr/local/lib/python3.7/dist-packages (from dm-haiku) (0.8.9)\n",
      "Requirement already satisfied: numpy>=1.18.0 in /usr/local/lib/python3.7/dist-packages (from dm-haiku) (1.21.6)\n",
      "Requirement already satisfied: typing-extensions in /usr/local/lib/python3.7/dist-packages (from dm-haiku) (4.2.0)\n",
      "Collecting jmp>=0.0.2\n",
      "  Downloading jmp-0.0.2-py3-none-any.whl (16 kB)\n",
      "Requirement already satisfied: six in /usr/local/lib/python3.7/dist-packages (from absl-py>=0.7.1->dm-haiku) (1.15.0)\n",
      "Installing collected packages: jmp, dm-haiku\n",
      "Successfully installed dm-haiku-0.0.6 jmp-0.0.2\n",
      "Collecting optax\n",
      "  Downloading optax-0.1.2-py3-none-any.whl (140 kB)\n",
      "\u001b[K     |████████████████████████████████| 140 kB 4.1 MB/s \n",
      "\u001b[?25hRequirement already satisfied: jaxlib>=0.1.37 in /usr/local/lib/python3.7/dist-packages (from optax) (0.3.7+cuda11.cudnn805)\n",
      "Requirement already satisfied: absl-py>=0.7.1 in /usr/local/lib/python3.7/dist-packages (from optax) (1.0.0)\n",
      "Collecting chex>=0.0.4\n",
      "  Downloading chex-0.1.3-py3-none-any.whl (72 kB)\n",
      "\u001b[K     |████████████████████████████████| 72 kB 860 kB/s \n",
      "\u001b[?25hRequirement already satisfied: jax>=0.1.55 in /usr/local/lib/python3.7/dist-packages (from optax) (0.3.8)\n",
      "Requirement already satisfied: typing-extensions>=3.10.0 in /usr/local/lib/python3.7/dist-packages (from optax) (4.2.0)\n",
      "Requirement already satisfied: numpy>=1.18.0 in /usr/local/lib/python3.7/dist-packages (from optax) (1.21.6)\n",
      "Requirement already satisfied: six in /usr/local/lib/python3.7/dist-packages (from absl-py>=0.7.1->optax) (1.15.0)\n",
      "Requirement already satisfied: dm-tree>=0.1.5 in /usr/local/lib/python3.7/dist-packages (from chex>=0.0.4->optax) (0.1.7)\n",
      "Requirement already satisfied: toolz>=0.9.0 in /usr/local/lib/python3.7/dist-packages (from chex>=0.0.4->optax) (0.11.2)\n",
      "Requirement already satisfied: opt-einsum in /usr/local/lib/python3.7/dist-packages (from jax>=0.1.55->optax) (3.3.0)\n",
      "Requirement already satisfied: scipy>=1.2.1 in /usr/local/lib/python3.7/dist-packages (from jax>=0.1.55->optax) (1.4.1)\n",
      "Requirement already satisfied: flatbuffers<3.0,>=1.12 in /usr/local/lib/python3.7/dist-packages (from jaxlib>=0.1.37->optax) (2.0)\n",
      "Installing collected packages: chex, optax\n",
      "Successfully installed chex-0.1.3 optax-0.1.2\n"
     ]
    }
   ],
   "source": [
    "!pip install mne\n",
    "!pip install sklearn\n",
    "!pip install tensorflow\n",
    "!pip install -U dm-haiku\n",
    "!pip install optax"
   ]
  },
  {
   "cell_type": "code",
   "execution_count": null,
   "metadata": {
    "colab": {
     "base_uri": "https://localhost:8080/"
    },
    "executionInfo": {
     "elapsed": 3028,
     "status": "ok",
     "timestamp": 1652976549624,
     "user": {
      "displayName": "Lei Luo",
      "userId": "12117982536677976370"
     },
     "user_tz": -60
    },
    "id": "nO-bO_Vdqhcs",
    "outputId": "ca8b18a8-8eab-43a2-f45a-e34d2d6c7b62"
   },
   "outputs": [
    {
     "name": "stdout",
     "output_type": "stream",
     "text": [
      "load_data.py  __pycache__  test_load_data.py\n"
     ]
    }
   ],
   "source": [
    "!ls drive/MyDrive/MT_ML_Decoding/Aversive_state_reactivation/notebooks/templates/load/code"
   ]
  },
  {
   "cell_type": "code",
   "execution_count": null,
   "metadata": {
    "id": "8rUYw68cjY2t"
   },
   "outputs": [],
   "source": [
    "import sys\n",
    "sys.path.append('drive/MyDrive/MT_ML_Decoding/Aversive_state_reactivation/notebooks/templates/load/code')\n",
    "from load_data import load_MEG_dataset\n",
    "import haiku as hk\n",
    "import jax\n",
    "import optax\n",
    "from jax import numpy as jnp"
   ]
  },
  {
   "cell_type": "markdown",
   "metadata": {
    "id": "s2D5XWs_jZsA"
   },
   "source": [
    "## load data"
   ]
  },
  {
   "cell_type": "code",
   "execution_count": null,
   "metadata": {
    "colab": {
     "base_uri": "https://localhost:8080/"
    },
    "executionInfo": {
     "elapsed": 16839,
     "status": "ok",
     "timestamp": 1652976586035,
     "user": {
      "displayName": "Lei Luo",
      "userId": "12117982536677976370"
     },
     "user_tz": -60
    },
    "id": "OvqnaJBT1FuE",
    "outputId": "7170cfcf-ecd1-4a11-9191-ba7e1c358912"
   },
   "outputs": [
    {
     "name": "stdout",
     "output_type": "stream",
     "text": [
      "Loading subject 001\n",
      "Data loaded\n",
      "Subject 001 complete\n",
      "--------------------------------------\n",
      "Loading subject 002\n",
      "Data loaded\n",
      "Subject 002 complete\n",
      "--------------------------------------\n",
      "Loading subject 003\n",
      "Data loaded\n",
      "Subject 003 complete\n",
      "--------------------------------------\n",
      "Loading subject 004\n",
      "Data loaded\n",
      "Subject 004 complete\n",
      "--------------------------------------\n"
     ]
    }
   ],
   "source": [
    "X_train, y_train = load_MEG_dataset([str(i).zfill(3) for i in range(1,5)], mode = 'concatenate', output_format='numpy')"
   ]
  },
  {
   "cell_type": "code",
   "execution_count": null,
   "metadata": {
    "colab": {
     "base_uri": "https://localhost:8080/"
    },
    "executionInfo": {
     "elapsed": 15827,
     "status": "ok",
     "timestamp": 1652976601858,
     "user": {
      "displayName": "Lei Luo",
      "userId": "12117982536677976370"
     },
     "user_tz": -60
    },
    "id": "hwbLYH_Fi5i7",
    "outputId": "1ee9891b-965b-4d34-e124-c5dfc16eff6e"
   },
   "outputs": [
    {
     "name": "stdout",
     "output_type": "stream",
     "text": [
      "Loading subject 001\n",
      "Data loaded\n",
      "Subject 001 complete\n",
      "--------------------------------------\n",
      "Loading subject 002\n",
      "Data loaded\n",
      "Subject 002 complete\n",
      "--------------------------------------\n",
      "Loading subject 003\n",
      "Data loaded\n",
      "Subject 003 complete\n",
      "--------------------------------------\n",
      "Loading subject 004\n",
      "Data loaded\n",
      "Subject 004 complete\n",
      "--------------------------------------\n",
      "Loading subject 001\n",
      "Data loaded\n",
      "Subject 001 complete\n",
      "--------------------------------------\n",
      "Loading subject 002\n",
      "Data loaded\n",
      "Subject 002 complete\n",
      "--------------------------------------\n",
      "Loading subject 003\n",
      "Data loaded\n",
      "Subject 003 complete\n",
      "--------------------------------------\n",
      "Loading subject 004\n",
      "Data loaded\n",
      "Subject 004 complete\n",
      "--------------------------------------\n"
     ]
    }
   ],
   "source": [
    "# X, y = load_MEG_dataset([str(i).zfill(3) for i in range(1,5)])\n",
    "X_train, y_train = load_MEG_dataset([str(i).zfill(3) for i in range(1,5)], mode = 'concatenate', output_format='numpy')\n",
    "X_test, y_test = load_MEG_dataset([str(i).zfill(3) for i in range(1,5)], mode = 'concatenate', output_format='numpy')"
   ]
  },
  {
   "cell_type": "code",
   "execution_count": null,
   "metadata": {
    "id": "Z2aHCRB0o-p6"
   },
   "outputs": [],
   "source": [
    "X_train, X_test, y_train, y_test = jnp.array(X_train, dtype=jnp.float32),\\\n",
    "                                   jnp.array(X_test, dtype=jnp.float32),\\\n",
    "                                   jnp.array(y_train, dtype=jnp.float32),\\\n",
    "                                   jnp.array(y_test, dtype=jnp.float32)"
   ]
  },
  {
   "cell_type": "code",
   "execution_count": null,
   "metadata": {
    "colab": {
     "base_uri": "https://localhost:8080/"
    },
    "executionInfo": {
     "elapsed": 6,
     "status": "ok",
     "timestamp": 1652976732209,
     "user": {
      "displayName": "Lei Luo",
      "userId": "12117982536677976370"
     },
     "user_tz": -60
    },
    "id": "0tCioYV2uwDp",
    "outputId": "618261b4-83f8-47d7-df2a-3500aee8962a"
   },
   "outputs": [
    {
     "data": {
      "text/plain": [
       "False"
      ]
     },
     "execution_count": 23,
     "metadata": {},
     "output_type": "execute_result"
    }
   ],
   "source": [
    "import numpy as np\n",
    "np.isnan(X_test).any()"
   ]
  },
  {
   "cell_type": "markdown",
   "metadata": {
    "id": "UNitrn7EwORK"
   },
   "source": [
    "## CNN process"
   ]
  },
  {
   "cell_type": "code",
   "execution_count": null,
   "metadata": {
    "colab": {
     "base_uri": "https://localhost:8080/"
    },
    "executionInfo": {
     "elapsed": 391,
     "status": "ok",
     "timestamp": 1652976887119,
     "user": {
      "displayName": "Lei Luo",
      "userId": "12117982536677976370"
     },
     "user_tz": -60
    },
    "id": "ZL6Wq_NIwNzG",
    "outputId": "bcfc81bd-2919-4684-fa5e-4364cba11e50"
   },
   "outputs": [
    {
     "name": "stdout",
     "output_type": "stream",
     "text": [
      "Weights Type : <class 'dict'>\n",
      "\n",
      "CNN/~/conv2_d\n",
      "Weights : (3, 3, 11, 32), Biases : (32,)\n",
      "\n",
      "CNN/~/conv2_d_1\n",
      "Weights : (3, 3, 16, 16), Biases : (16,)\n",
      "\n",
      "CNN/~/linear\n",
      "Weights : (544, 14), Biases : (14,)\n",
      "\n"
     ]
    }
   ],
   "source": [
    "classes =  jnp.unique(y_train)\n",
    "class CNN(hk.Module):\n",
    "    def __init__(self):\n",
    "        super().__init__(name=\"CNN\")\n",
    "        self.conv1 = hk.Conv2D(output_channels=32, kernel_shape=(3,3), padding=\"SAME\")\n",
    "        self.conv2 = hk.Conv2D(output_channels=16, kernel_shape=(3,3), padding=\"SAME\")\n",
    "        self.flatten = hk.Flatten()\n",
    "        self.linear = hk.Linear(len(classes))\n",
    "\n",
    "    def __call__(self, x_batch):\n",
    "        x = self.conv1(x_batch)\n",
    "        x = hk.MaxPool(window_shape=(2, 2), strides=(2, 2), padding='SAME')(x)\n",
    "        x = jax.nn.relu(x)\n",
    "        x = self.conv2(x)\n",
    "        x = jax.nn.relu(x)\n",
    "        x = hk.MaxPool(window_shape=(2, 2), strides=(2, 2), padding='SAME')(x)\n",
    "        x = self.flatten(x)\n",
    "        x = self.linear(x)\n",
    "        x = jax.nn.softmax(x)\n",
    "        return x\n",
    "\n",
    "def ConvNet(x):\n",
    "    cnn = CNN()\n",
    "    return cnn(x)\n",
    "\n",
    "conv_net = hk.transform(ConvNet)        \n",
    "\n",
    "rng = jax.random.PRNGKey(42)\n",
    "\n",
    "params = conv_net.init(rng, X_train[:5])\n",
    "\n",
    "print(\"Weights Type : {}\\n\".format(type(params)))\n",
    "\n",
    "for layer_name, weights in params.items():\n",
    "    print(layer_name)\n",
    "    print(\"Weights : {}, Biases : {}\\n\".format(params[layer_name][\"w\"].shape,params[layer_name][\"b\"].shape))"
   ]
  },
  {
   "cell_type": "code",
   "execution_count": null,
   "metadata": {
    "colab": {
     "base_uri": "https://localhost:8080/"
    },
    "executionInfo": {
     "elapsed": 6,
     "status": "ok",
     "timestamp": 1652976887599,
     "user": {
      "displayName": "Lei Luo",
      "userId": "12117982536677976370"
     },
     "user_tz": -60
    },
    "id": "xdCQ94YdxmQd",
    "outputId": "e7f677ad-14f0-4dd9-8445-7819664649bd"
   },
   "outputs": [
    {
     "data": {
      "text/plain": [
       "DeviceArray([[0.05440806, 0.05974838, 0.04911929, 0.06157311, 0.10804811,\n",
       "              0.06126059, 0.10362403, 0.05145162, 0.04764602, 0.05292974,\n",
       "              0.07414541, 0.07396773, 0.09960303, 0.10247489],\n",
       "             [0.03946492, 0.06339394, 0.05861948, 0.06586616, 0.10889307,\n",
       "              0.05590901, 0.09560863, 0.0851321 , 0.04034037, 0.0410946 ,\n",
       "              0.07252973, 0.07019497, 0.1003397 , 0.1026132 ],\n",
       "             [0.03803634, 0.03918001, 0.03364867, 0.03862309, 0.17397134,\n",
       "              0.0683939 , 0.07720859, 0.05817258, 0.04499368, 0.07231366,\n",
       "              0.07830662, 0.06010528, 0.08290525, 0.13414103],\n",
       "             [0.03550749, 0.0563261 , 0.05037626, 0.03906024, 0.10741044,\n",
       "              0.08470004, 0.11599138, 0.05123251, 0.06790026, 0.05383387,\n",
       "              0.07193873, 0.0823633 , 0.0639092 , 0.11945021],\n",
       "             [0.03407971, 0.03356903, 0.06553856, 0.06448561, 0.09836739,\n",
       "              0.07721376, 0.06487056, 0.05068876, 0.04786871, 0.07435487,\n",
       "              0.08207738, 0.08398999, 0.15993088, 0.0629648 ]],            dtype=float32)"
      ]
     },
     "execution_count": 39,
     "metadata": {},
     "output_type": "execute_result"
    }
   ],
   "source": [
    "preds = conv_net.apply(params, rng, X_train[:5])\n",
    "\n",
    "preds[:5]"
   ]
  },
  {
   "cell_type": "markdown",
   "metadata": {
    "id": "cxtPkiAqxw9x"
   },
   "source": [
    "Loss function"
   ]
  },
  {
   "cell_type": "code",
   "execution_count": null,
   "metadata": {
    "id": "IhyP1X4MxyrA"
   },
   "outputs": [],
   "source": [
    "def CrossEntropyLoss(weights, input_data, actual):\n",
    "    preds = conv_net.apply(weights, rng, input_data)\n",
    "    one_hot_actual = jax.nn.one_hot(actual, num_classes=len(classes))\n",
    "    log_preds = jnp.log(preds)\n",
    "    return - jnp.sum(one_hot_actual * log_preds)"
   ]
  },
  {
   "cell_type": "markdown",
   "metadata": {
    "id": "PwLX3hzDx_8J"
   },
   "source": [
    "Train"
   ]
  },
  {
   "cell_type": "code",
   "execution_count": null,
   "metadata": {
    "id": "UrSAHGXayA7X"
   },
   "outputs": [],
   "source": [
    "def UpdateWeights(weights,gradients):\n",
    "    return weights - learning_rate * gradients"
   ]
  },
  {
   "cell_type": "code",
   "execution_count": null,
   "metadata": {
    "colab": {
     "base_uri": "https://localhost:8080/"
    },
    "executionInfo": {
     "elapsed": 13095,
     "status": "ok",
     "timestamp": 1652976900691,
     "user": {
      "displayName": "Lei Luo",
      "userId": "12117982536677976370"
     },
     "user_tz": -60
    },
    "id": "-fVd_isKyEBW",
    "outputId": "42fd3e31-19fd-41d2-a532-69c622f5a879"
   },
   "outputs": [
    {
     "name": "stdout",
     "output_type": "stream",
     "text": [
      "CrossEntropy Loss : 270.54\n",
      "CrossEntropy Loss : 243.51\n",
      "CrossEntropy Loss : 224.93\n",
      "CrossEntropy Loss : 212.50\n",
      "CrossEntropy Loss : 204.71\n",
      "CrossEntropy Loss : 199.96\n",
      "CrossEntropy Loss : 196.96\n",
      "CrossEntropy Loss : 194.88\n",
      "CrossEntropy Loss : 193.25\n",
      "CrossEntropy Loss : 191.88\n",
      "CrossEntropy Loss : 190.66\n",
      "CrossEntropy Loss : 189.54\n",
      "CrossEntropy Loss : 188.50\n",
      "CrossEntropy Loss : 187.52\n",
      "CrossEntropy Loss : 186.58\n",
      "CrossEntropy Loss : 185.68\n",
      "CrossEntropy Loss : 184.82\n",
      "CrossEntropy Loss : 183.98\n",
      "CrossEntropy Loss : 183.17\n",
      "CrossEntropy Loss : 182.38\n",
      "CrossEntropy Loss : 181.61\n",
      "CrossEntropy Loss : 180.85\n",
      "CrossEntropy Loss : 180.11\n",
      "CrossEntropy Loss : 179.37\n",
      "CrossEntropy Loss : 178.64\n"
     ]
    }
   ],
   "source": [
    "from jax import value_and_grad\n",
    "\n",
    "rng = jax.random.PRNGKey(42) ## Reproducibility ## Initializes model with same weights each time.\n",
    "\n",
    "conv_net = hk.transform(ConvNet)\n",
    "params = conv_net.init(rng, X_train[:5])\n",
    "epochs = 25\n",
    "batch_size = 256\n",
    "learning_rate = jnp.array(1/1e4)\n",
    "\n",
    "\n",
    "optimizer = optax.adam(learning_rate=learning_rate) ## Initialize SGD Optimizer\n",
    "optimizer_state = optimizer.init(params)\n",
    "\n",
    "\n",
    "for i in range(1, epochs+1):\n",
    "    batches = jnp.arange((X_train.shape[0]//batch_size)+1) ### Batch Indices\n",
    "\n",
    "    losses = [] ## Record loss of each batch\n",
    "    for batch in batches:\n",
    "        if batch != batches[-1]:\n",
    "            start, end = int(batch*batch_size), int(batch*batch_size+batch_size)\n",
    "        else:\n",
    "            start, end = int(batch*batch_size), None\n",
    "\n",
    "        X_batch, Y_batch = X_train[start:end], y_train[start:end] ## Single batch of data\n",
    "\n",
    "        loss, param_grads = value_and_grad(CrossEntropyLoss)(params, X_batch, Y_batch) ## Forward pass, loss and grads calculation\n",
    "        #print(param_grads)\n",
    "        updates, optimizer_state = optimizer.update(param_grads, optimizer_state) ## Calculate parameter updates\n",
    "        params = optax.apply_updates(params, updates) ## Update model weights\n",
    "        #params = jax.tree_map(UpdateWeights, params, param_grads) ## Update Params\n",
    "        losses.append(loss) ## Record Loss\n",
    "\n",
    "    print(\"CrossEntropy Loss : {:.2f}\".format(jnp.array(losses).mean()))"
   ]
  },
  {
   "cell_type": "markdown",
   "metadata": {
    "id": "uTGOkzGXySM-"
   },
   "source": [
    "Make prediction"
   ]
  },
  {
   "cell_type": "code",
   "execution_count": null,
   "metadata": {
    "id": "DoKxjxnqyRXH"
   },
   "outputs": [],
   "source": [
    "def MakePredictions(weights, input_data, batch_size=32):\n",
    "    batches = jnp.arange((input_data.shape[0]//batch_size)+1) ### Batch Indices\n",
    "\n",
    "    preds = []\n",
    "    for batch in batches:\n",
    "        if batch != batches[-1]:\n",
    "            start, end = int(batch*batch_size), int(batch*batch_size+batch_size)\n",
    "        else:\n",
    "            start, end = int(batch*batch_size), None\n",
    "\n",
    "        X_batch = input_data[start:end]\n",
    "\n",
    "        preds.append(conv_net.apply(weights, rng, X_batch))\n",
    "\n",
    "    return preds"
   ]
  },
  {
   "cell_type": "code",
   "execution_count": null,
   "metadata": {
    "id": "d4qKLXtIyWoy"
   },
   "outputs": [],
   "source": [
    "train_preds = MakePredictions(params, X_train, 256)\n",
    "train_preds = jnp.concatenate(train_preds).squeeze()\n",
    "train_preds = train_preds.argmax(axis=1)\n",
    "\n",
    "test_preds = MakePredictions(params, X_test, 256)\n",
    "test_preds = jnp.concatenate(test_preds).squeeze()\n",
    "test_preds = test_preds.argmax(axis=1)"
   ]
  },
  {
   "cell_type": "markdown",
   "metadata": {
    "id": "Ugu11JzyyZ0n"
   },
   "source": [
    "Evaluation"
   ]
  },
  {
   "cell_type": "code",
   "execution_count": null,
   "metadata": {
    "colab": {
     "base_uri": "https://localhost:8080/"
    },
    "executionInfo": {
     "elapsed": 13,
     "status": "ok",
     "timestamp": 1652976901142,
     "user": {
      "displayName": "Lei Luo",
      "userId": "12117982536677976370"
     },
     "user_tz": -60
    },
    "id": "vL8a1F4oybo3",
    "outputId": "4864038d-d2e8-459b-af9e-c729f14be571"
   },
   "outputs": [
    {
     "name": "stdout",
     "output_type": "stream",
     "text": [
      "Train Accuracy : 0.125\n",
      "Test  Accuracy : 0.125\n"
     ]
    }
   ],
   "source": [
    "from sklearn.metrics import accuracy_score\n",
    "\n",
    "print(\"Train Accuracy : {:.3f}\".format(accuracy_score(y_train, train_preds)))\n",
    "print(\"Test  Accuracy : {:.3f}\".format(accuracy_score(y_test, test_preds)))"
   ]
  },
  {
   "cell_type": "code",
   "execution_count": null,
   "metadata": {
    "colab": {
     "base_uri": "https://localhost:8080/"
    },
    "executionInfo": {
     "elapsed": 12,
     "status": "ok",
     "timestamp": 1652976901143,
     "user": {
      "displayName": "Lei Luo",
      "userId": "12117982536677976370"
     },
     "user_tz": -60
    },
    "id": "DueB-3XVyndX",
    "outputId": "df7698e4-3172-4f4d-fd10-92c1753c879a"
   },
   "outputs": [
    {
     "name": "stdout",
     "output_type": "stream",
     "text": [
      "Test Classification Report \n",
      "              precision    recall  f1-score   support\n",
      "\n",
      "         2.0       0.11      0.28      0.16       194\n",
      "         4.0       0.13      0.31      0.18       191\n",
      "         6.0       0.12      0.23      0.15       196\n",
      "         8.0       0.13      0.36      0.19       192\n",
      "        10.0       0.13      0.31      0.19       190\n",
      "        12.0       0.13      0.26      0.18       193\n",
      "        14.0       0.00      0.00      0.00       191\n",
      "        16.0       0.00      0.00      0.00       196\n",
      "        18.0       0.00      0.00      0.00       191\n",
      "        20.0       0.00      0.00      0.00       191\n",
      "        22.0       0.00      0.00      0.00       194\n",
      "        24.0       0.00      0.00      0.00       190\n",
      "        26.0       0.00      0.00      0.00       195\n",
      "        28.0       0.00      0.00      0.00       196\n",
      "\n",
      "    accuracy                           0.13      2700\n",
      "   macro avg       0.05      0.13      0.07      2700\n",
      "weighted avg       0.05      0.13      0.07      2700\n",
      "\n"
     ]
    },
    {
     "name": "stderr",
     "output_type": "stream",
     "text": [
      "/usr/local/lib/python3.7/dist-packages/sklearn/metrics/_classification.py:1318: UndefinedMetricWarning: Precision and F-score are ill-defined and being set to 0.0 in labels with no predicted samples. Use `zero_division` parameter to control this behavior.\n",
      "  _warn_prf(average, modifier, msg_start, len(result))\n",
      "/usr/local/lib/python3.7/dist-packages/sklearn/metrics/_classification.py:1318: UndefinedMetricWarning: Precision and F-score are ill-defined and being set to 0.0 in labels with no predicted samples. Use `zero_division` parameter to control this behavior.\n",
      "  _warn_prf(average, modifier, msg_start, len(result))\n",
      "/usr/local/lib/python3.7/dist-packages/sklearn/metrics/_classification.py:1318: UndefinedMetricWarning: Precision and F-score are ill-defined and being set to 0.0 in labels with no predicted samples. Use `zero_division` parameter to control this behavior.\n",
      "  _warn_prf(average, modifier, msg_start, len(result))\n"
     ]
    }
   ],
   "source": [
    "from sklearn.metrics import classification_report\n",
    "\n",
    "print(\"Test Classification Report \")\n",
    "print(classification_report(y_test, test_preds))"
   ]
  }
 ],
 "metadata": {
  "accelerator": "GPU",
  "colab": {
   "background_execution": "on",
   "collapsed_sections": [
    "vSkpg4anh7RQ",
    "Qu3fJfZeh7RT",
    "p5_VI9gDh7RV",
    "ZgkFsvzxn6i5",
    "slUZR4P7A9jl",
    "efXAt_NEh7RZ",
    "4bSrTjeGh7Ra",
    "jPnYrBnWjDIE"
   ],
   "machine_shape": "hm",
   "name": "Classifier.ipynb",
   "provenance": []
  },
  "kernelspec": {
   "display_name": "Python 3 (ipykernel)",
   "language": "python",
   "name": "python3"
  },
  "language_info": {
   "codemirror_mode": {
    "name": "ipython",
    "version": 3
   },
   "file_extension": ".py",
   "mimetype": "text/x-python",
   "name": "python",
   "nbconvert_exporter": "python",
   "pygments_lexer": "ipython3",
   "version": "3.9.13"
  }
 },
 "nbformat": 4,
 "nbformat_minor": 4
}
