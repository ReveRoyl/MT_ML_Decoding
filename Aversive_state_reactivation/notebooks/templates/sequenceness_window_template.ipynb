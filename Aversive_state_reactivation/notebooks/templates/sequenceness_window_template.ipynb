{
 "cells": [
  {
   "cell_type": "markdown",
   "metadata": {},
   "source": [
    "# Replay in Aversive Environments - Sequenceness analysis\n",
    "\n",
    "#### _This is a template that will be parameterised and run via [Papermill](http://papermill.readthedocs.io/) for each subject_\n",
    "\n",
    "This notebook uses the classifer trained on the localiser data to detect spontaneous state reactivation during the planning and rest phases of the task.\n",
    "\n",
    "Analysis steps:\n",
    "\n",
    "1. Loading task data and classifier\n",
    "2. Applying the classifer to the task data to generate time X state reactivation probabilities matrices\n",
    "3. Running the GLM-based sequenceness estimation procedure using a sliding window approach"
   ]
  },
  {
   "cell_type": "markdown",
   "metadata": {},
   "source": [
    "## Installation for ipykernel (debug)"
   ]
  },
  {
   "cell_type": "code",
   "execution_count": 1,
   "metadata": {},
   "outputs": [
    {
     "name": "stdout",
     "output_type": "stream",
     "text": [
      "Requirement already satisfied: ansiwrap in /usr/local/lib/python3.7/dist-packages (from -r ../../requirements.txt (line 1)) (0.8.4)\n",
      "Requirement already satisfied: appdirs in /usr/local/lib/python3.7/dist-packages (from -r ../../requirements.txt (line 2)) (1.4.4)\n",
      "Requirement already satisfied: argon2-cffi in /usr/local/lib/python3.7/dist-packages (from -r ../../requirements.txt (line 3)) (21.3.0)\n",
      "Requirement already satisfied: argon2-cffi-bindings in /usr/local/lib/python3.7/dist-packages (from -r ../../requirements.txt (line 4)) (21.2.0)\n",
      "Requirement already satisfied: asttokens in /usr/local/lib/python3.7/dist-packages (from -r ../../requirements.txt (line 5)) (2.0.5)\n",
      "Requirement already satisfied: attrs in /usr/local/lib/python3.7/dist-packages (from -r ../../requirements.txt (line 6)) (21.4.0)\n",
      "Requirement already satisfied: backcall in /usr/local/lib/python3.7/dist-packages (from -r ../../requirements.txt (line 7)) (0.2.0)\n",
      "Requirement already satisfied: beautifulsoup4 in /usr/local/lib/python3.7/dist-packages (from -r ../../requirements.txt (line 8)) (4.6.3)\n",
      "Requirement already satisfied: bleach in /usr/local/lib/python3.7/dist-packages (from -r ../../requirements.txt (line 9)) (5.0.0)\n",
      "Requirement already satisfied: certifi in /usr/local/lib/python3.7/dist-packages (from -r ../../requirements.txt (line 10)) (2021.10.8)\n",
      "Requirement already satisfied: cffi in /usr/local/lib/python3.7/dist-packages (from -r ../../requirements.txt (line 11)) (1.15.0)\n",
      "Requirement already satisfied: charset-normalizer in /usr/local/lib/python3.7/dist-packages (from -r ../../requirements.txt (line 12)) (2.0.12)\n",
      "Requirement already satisfied: click in /usr/local/lib/python3.7/dist-packages (from -r ../../requirements.txt (line 13)) (7.1.2)\n",
      "Requirement already satisfied: colorama in /usr/local/lib/python3.7/dist-packages (from -r ../../requirements.txt (line 14)) (0.4.4)\n",
      "Requirement already satisfied: colorlover in /usr/local/lib/python3.7/dist-packages (from -r ../../requirements.txt (line 15)) (0.3.0)\n",
      "Requirement already satisfied: cufflinks in /usr/local/lib/python3.7/dist-packages (from -r ../../requirements.txt (line 16)) (0.17.3)\n",
      "Requirement already satisfied: cycler in /usr/local/lib/python3.7/dist-packages (from -r ../../requirements.txt (line 17)) (0.11.0)\n",
      "Requirement already satisfied: debugpy in /usr/local/lib/python3.7/dist-packages (from -r ../../requirements.txt (line 18)) (1.0.0)\n",
      "Requirement already satisfied: decorator in /usr/local/lib/python3.7/dist-packages (from -r ../../requirements.txt (line 19)) (4.4.2)\n",
      "Requirement already satisfied: defusedxml in /usr/local/lib/python3.7/dist-packages (from -r ../../requirements.txt (line 20)) (0.7.1)\n",
      "Requirement already satisfied: entrypoints in /usr/local/lib/python3.7/dist-packages (from -r ../../requirements.txt (line 21)) (0.4)\n",
      "Requirement already satisfied: executing in /usr/local/lib/python3.7/dist-packages (from -r ../../requirements.txt (line 22)) (0.8.3)\n",
      "Requirement already satisfied: fastjsonschema in /usr/local/lib/python3.7/dist-packages (from -r ../../requirements.txt (line 23)) (2.15.3)\n",
      "Requirement already satisfied: fonttools in /usr/local/lib/python3.7/dist-packages (from -r ../../requirements.txt (line 24)) (4.33.3)\n",
      "Requirement already satisfied: idna in /usr/local/lib/python3.7/dist-packages (from -r ../../requirements.txt (line 25)) (2.10)\n",
      "Requirement already satisfied: importlib-resources in /usr/local/lib/python3.7/dist-packages (from -r ../../requirements.txt (line 26)) (5.7.1)\n",
      "Requirement already satisfied: ipykernel==4.10 in /usr/local/lib/python3.7/dist-packages (from -r ../../requirements.txt (line 27)) (4.10.0)\n",
      "Requirement already satisfied: ipython==5.5.0 in /usr/local/lib/python3.7/dist-packages (from -r ../../requirements.txt (line 28)) (5.5.0)\n",
      "Requirement already satisfied: ipython-genutils in /usr/local/lib/python3.7/dist-packages (from -r ../../requirements.txt (line 29)) (0.2.0)\n",
      "Requirement already satisfied: ipywidgets in /usr/local/lib/python3.7/dist-packages (from -r ../../requirements.txt (line 30)) (7.7.0)\n",
      "Requirement already satisfied: jedi in /usr/local/lib/python3.7/dist-packages (from -r ../../requirements.txt (line 31)) (0.18.1)\n",
      "Requirement already satisfied: Jinja2 in /usr/local/lib/python3.7/dist-packages (from -r ../../requirements.txt (line 32)) (2.11.3)\n",
      "Requirement already satisfied: joblib in /usr/local/lib/python3.7/dist-packages (from -r ../../requirements.txt (line 33)) (1.1.0)\n",
      "Requirement already satisfied: jsonschema in /usr/local/lib/python3.7/dist-packages (from -r ../../requirements.txt (line 34)) (4.3.3)\n",
      "Requirement already satisfied: jupyter in /usr/local/lib/python3.7/dist-packages (from -r ../../requirements.txt (line 35)) (1.0.0)\n",
      "Requirement already satisfied: jupyter-client in /usr/local/lib/python3.7/dist-packages (from -r ../../requirements.txt (line 36)) (7.2.0)\n",
      "Requirement already satisfied: jupyter-console in /usr/local/lib/python3.7/dist-packages (from -r ../../requirements.txt (line 37)) (5.2.0)\n",
      "Requirement already satisfied: jupyter-core in /usr/local/lib/python3.7/dist-packages (from -r ../../requirements.txt (line 38)) (4.10.0)\n",
      "Requirement already satisfied: jupyterlab-pygments in /usr/local/lib/python3.7/dist-packages (from -r ../../requirements.txt (line 39)) (0.2.2)\n",
      "Requirement already satisfied: jupyterlab-widgets in /usr/local/lib/python3.7/dist-packages (from -r ../../requirements.txt (line 40)) (1.1.0)\n",
      "Requirement already satisfied: kiwisolver in /usr/local/lib/python3.7/dist-packages (from -r ../../requirements.txt (line 41)) (1.4.2)\n",
      "Requirement already satisfied: llvmlite in /usr/local/lib/python3.7/dist-packages (from -r ../../requirements.txt (line 42)) (0.34.0)\n",
      "Requirement already satisfied: MarkupSafe in /usr/local/lib/python3.7/dist-packages (from -r ../../requirements.txt (line 43)) (2.0.1)\n",
      "Requirement already satisfied: matplotlib in /usr/local/lib/python3.7/dist-packages (from -r ../../requirements.txt (line 44)) (3.2.2)\n",
      "Requirement already satisfied: matplotlib-inline in /usr/local/lib/python3.7/dist-packages (from -r ../../requirements.txt (line 45)) (0.1.3)\n",
      "Requirement already satisfied: mistune in /usr/local/lib/python3.7/dist-packages (from -r ../../requirements.txt (line 46)) (0.8.4)\n",
      "Requirement already satisfied: mkl-fft in /usr/local/lib/python3.7/dist-packages (from -r ../../requirements.txt (line 47)) (1.3.1)\n",
      "Requirement already satisfied: mkl-random in /usr/local/lib/python3.7/dist-packages (from -r ../../requirements.txt (line 48)) (1.2.2)\n",
      "Requirement already satisfied: mkl-service in /usr/local/lib/python3.7/dist-packages (from -r ../../requirements.txt (line 49)) (2.4.0)\n",
      "Requirement already satisfied: mne in /usr/local/lib/python3.7/dist-packages (from -r ../../requirements.txt (line 50)) (1.0.2)\n",
      "Requirement already satisfied: nbclient in /usr/local/lib/python3.7/dist-packages (from -r ../../requirements.txt (line 51)) (0.6.0)\n",
      "Requirement already satisfied: nbconvert in /usr/local/lib/python3.7/dist-packages (from -r ../../requirements.txt (line 52)) (5.6.1)\n",
      "Requirement already satisfied: nbformat in /usr/local/lib/python3.7/dist-packages (from -r ../../requirements.txt (line 53)) (5.3.0)\n",
      "Requirement already satisfied: nest-asyncio in /usr/local/lib/python3.7/dist-packages (from -r ../../requirements.txt (line 54)) (1.5.5)\n",
      "Requirement already satisfied: networkx in /usr/local/lib/python3.7/dist-packages (from -r ../../requirements.txt (line 55)) (2.6.3)\n",
      "Requirement already satisfied: notebook in /usr/local/lib/python3.7/dist-packages (from -r ../../requirements.txt (line 56)) (5.3.1)\n",
      "Requirement already satisfied: numba in /usr/local/lib/python3.7/dist-packages (from -r ../../requirements.txt (line 57)) (0.51.2)\n",
      "Requirement already satisfied: numpy in /usr/local/lib/python3.7/dist-packages (from -r ../../requirements.txt (line 58)) (1.21.6)\n",
      "Requirement already satisfied: packaging in /usr/local/lib/python3.7/dist-packages (from -r ../../requirements.txt (line 59)) (21.3)\n",
      "Requirement already satisfied: pandas in /usr/local/lib/python3.7/dist-packages (from -r ../../requirements.txt (line 60)) (1.3.5)\n",
      "Requirement already satisfied: pandocfilters in /usr/local/lib/python3.7/dist-packages (from -r ../../requirements.txt (line 61)) (1.5.0)\n",
      "Requirement already satisfied: papermill in /usr/local/lib/python3.7/dist-packages (from -r ../../requirements.txt (line 62)) (2.3.4)\n",
      "Requirement already satisfied: parso in /usr/local/lib/python3.7/dist-packages (from -r ../../requirements.txt (line 63)) (0.8.3)\n",
      "Requirement already satisfied: pickleshare in /usr/local/lib/python3.7/dist-packages (from -r ../../requirements.txt (line 64)) (0.7.5)\n",
      "Requirement already satisfied: Pillow in /usr/local/lib/python3.7/dist-packages (from -r ../../requirements.txt (line 65)) (7.1.2)\n",
      "Requirement already satisfied: plotly in /usr/local/lib/python3.7/dist-packages (from -r ../../requirements.txt (line 66)) (5.5.0)\n",
      "Requirement already satisfied: pooch in /usr/local/lib/python3.7/dist-packages (from -r ../../requirements.txt (line 67)) (1.6.0)\n",
      "Requirement already satisfied: prometheus-client in /usr/local/lib/python3.7/dist-packages (from -r ../../requirements.txt (line 68)) (0.14.1)\n",
      "Requirement already satisfied: prompt-toolkit in /usr/local/lib/python3.7/dist-packages (from -r ../../requirements.txt (line 69)) (1.0.18)\n",
      "Requirement already satisfied: pure-eval in /usr/local/lib/python3.7/dist-packages (from -r ../../requirements.txt (line 70)) (0.2.2)\n",
      "Requirement already satisfied: pycparser in /usr/local/lib/python3.7/dist-packages (from -r ../../requirements.txt (line 71)) (2.21)\n",
      "Requirement already satisfied: Pygments in /usr/local/lib/python3.7/dist-packages (from -r ../../requirements.txt (line 72)) (2.6.1)\n",
      "Requirement already satisfied: pyparsing in /usr/local/lib/python3.7/dist-packages (from -r ../../requirements.txt (line 73)) (3.0.8)\n",
      "Requirement already satisfied: pyrsistent in /usr/local/lib/python3.7/dist-packages (from -r ../../requirements.txt (line 74)) (0.18.1)\n",
      "Requirement already satisfied: python-dateutil in /usr/local/lib/python3.7/dist-packages (from -r ../../requirements.txt (line 75)) (2.8.2)\n",
      "Requirement already satisfied: pytz in /usr/local/lib/python3.7/dist-packages (from -r ../../requirements.txt (line 76)) (2022.1)\n",
      "Requirement already satisfied: PyYAML in /usr/local/lib/python3.7/dist-packages (from -r ../../requirements.txt (line 77)) (3.13)\n",
      "Requirement already satisfied: pyzmq in /usr/local/lib/python3.7/dist-packages (from -r ../../requirements.txt (line 78)) (22.3.0)\n",
      "Requirement already satisfied: qtconsole in /usr/local/lib/python3.7/dist-packages (from -r ../../requirements.txt (line 79)) (5.3.0)\n",
      "Requirement already satisfied: QtPy in /usr/local/lib/python3.7/dist-packages (from -r ../../requirements.txt (line 80)) (2.0.1)\n",
      "Requirement already satisfied: requests in /usr/local/lib/python3.7/dist-packages (from -r ../../requirements.txt (line 81)) (2.23.0)\n",
      "Requirement already satisfied: scikit-learn in /usr/local/lib/python3.7/dist-packages (from -r ../../requirements.txt (line 82)) (1.0.2)\n",
      "Requirement already satisfied: scikit-plot in /usr/local/lib/python3.7/dist-packages (from -r ../../requirements.txt (line 83)) (0.3.7)\n",
      "Requirement already satisfied: scipy in /usr/local/lib/python3.7/dist-packages (from -r ../../requirements.txt (line 84)) (1.4.1)\n",
      "Requirement already satisfied: seaborn in /usr/local/lib/python3.7/dist-packages (from -r ../../requirements.txt (line 85)) (0.11.2)\n",
      "Requirement already satisfied: Send2Trash in /usr/local/lib/python3.7/dist-packages (from -r ../../requirements.txt (line 86)) (1.8.0)\n",
      "Requirement already satisfied: sip in /usr/local/lib/python3.7/dist-packages (from -r ../../requirements.txt (line 87)) (6.6.1)\n",
      "Requirement already satisfied: six in /usr/local/lib/python3.7/dist-packages (from -r ../../requirements.txt (line 88)) (1.15.0)\n",
      "Requirement already satisfied: sklearn in /usr/local/lib/python3.7/dist-packages (from -r ../../requirements.txt (line 89)) (0.0)\n",
      "Requirement already satisfied: soupsieve in /usr/local/lib/python3.7/dist-packages (from -r ../../requirements.txt (line 90)) (2.3.2.post1)\n",
      "Requirement already satisfied: stack-data in /usr/local/lib/python3.7/dist-packages (from -r ../../requirements.txt (line 91)) (0.2.0)\n",
      "Requirement already satisfied: tenacity in /usr/local/lib/python3.7/dist-packages (from -r ../../requirements.txt (line 92)) (8.0.1)\n",
      "Requirement already satisfied: terminado in /usr/local/lib/python3.7/dist-packages (from -r ../../requirements.txt (line 93)) (0.13.3)\n",
      "Requirement already satisfied: testpath in /usr/local/lib/python3.7/dist-packages (from -r ../../requirements.txt (line 94)) (0.6.0)\n",
      "Requirement already satisfied: textwrap3 in /usr/local/lib/python3.7/dist-packages (from -r ../../requirements.txt (line 95)) (0.9.2)\n",
      "Requirement already satisfied: threadpoolctl in /usr/local/lib/python3.7/dist-packages (from -r ../../requirements.txt (line 96)) (3.1.0)\n",
      "Requirement already satisfied: tornado==5.1.0 in /usr/local/lib/python3.7/dist-packages (from -r ../../requirements.txt (line 97)) (5.1)\n",
      "Requirement already satisfied: tqdm in /usr/local/lib/python3.7/dist-packages (from -r ../../requirements.txt (line 98)) (4.64.0)\n",
      "Requirement already satisfied: traitlets in /usr/local/lib/python3.7/dist-packages (from -r ../../requirements.txt (line 99)) (5.1.1)\n",
      "Requirement already satisfied: typing_extensions in /usr/local/lib/python3.7/dist-packages (from -r ../../requirements.txt (line 100)) (4.2.0)\n",
      "Requirement already satisfied: urllib3 in /usr/local/lib/python3.7/dist-packages (from -r ../../requirements.txt (line 101)) (1.24.3)\n",
      "Requirement already satisfied: wcwidth in /usr/local/lib/python3.7/dist-packages (from -r ../../requirements.txt (line 102)) (0.2.5)\n",
      "Requirement already satisfied: webencodings in /usr/local/lib/python3.7/dist-packages (from -r ../../requirements.txt (line 103)) (0.5.1)\n",
      "Requirement already satisfied: widgetsnbextension in /usr/local/lib/python3.7/dist-packages (from -r ../../requirements.txt (line 104)) (3.6.0)\n",
      "Requirement already satisfied: wincertstore in /usr/local/lib/python3.7/dist-packages (from -r ../../requirements.txt (line 105)) (0.2)\n",
      "Requirement already satisfied: zipp in /usr/local/lib/python3.7/dist-packages (from -r ../../requirements.txt (line 106)) (3.8.0)\n",
      "Requirement already satisfied: setuptools>=18.5 in /usr/local/lib/python3.7/dist-packages (from ipython==5.5.0->-r ../../requirements.txt (line 28)) (57.4.0)\n",
      "Requirement already satisfied: simplegeneric>0.8 in /usr/local/lib/python3.7/dist-packages (from ipython==5.5.0->-r ../../requirements.txt (line 28)) (0.8.1)\n",
      "Requirement already satisfied: pexpect in /usr/local/lib/python3.7/dist-packages (from ipython==5.5.0->-r ../../requirements.txt (line 28)) (4.8.0)\n",
      "Requirement already satisfied: importlib-metadata in /usr/local/lib/python3.7/dist-packages (from jsonschema->-r ../../requirements.txt (line 34)) (4.11.3)\n",
      "Requirement already satisfied: ptyprocess in /usr/local/lib/python3.7/dist-packages (from terminado->-r ../../requirements.txt (line 93)) (0.7.0)\n",
      "Requirement already satisfied: mkl in /usr/local/lib/python3.7/dist-packages (from mkl-fft->-r ../../requirements.txt (line 47)) (2019.0)\n",
      "Requirement already satisfied: dpcpp_cpp_rt in /usr/local/lib/python3.7/dist-packages (from mkl-fft->-r ../../requirements.txt (line 47)) (2022.1.0)\n",
      "Requirement already satisfied: chardet<4,>=3.0.2 in /usr/local/lib/python3.7/dist-packages (from requests->-r ../../requirements.txt (line 81)) (3.0.4)\n",
      "Requirement already satisfied: ply in /usr/local/lib/python3.7/dist-packages (from sip->-r ../../requirements.txt (line 87)) (3.11)\n",
      "Requirement already satisfied: toml in /usr/local/lib/python3.7/dist-packages (from sip->-r ../../requirements.txt (line 87)) (0.10.2)\n",
      "Requirement already satisfied: intel-opencl-rt==2022.1.0 in /usr/local/lib/python3.7/dist-packages (from dpcpp_cpp_rt->mkl-fft->-r ../../requirements.txt (line 47)) (2022.1.0)\n",
      "Requirement already satisfied: intel-openmp==2022.1.0 in /usr/local/lib/python3.7/dist-packages (from dpcpp_cpp_rt->mkl-fft->-r ../../requirements.txt (line 47)) (2022.1.0)\n",
      "Requirement already satisfied: intel-cmplr-lib-rt==2022.1.0 in /usr/local/lib/python3.7/dist-packages (from dpcpp_cpp_rt->mkl-fft->-r ../../requirements.txt (line 47)) (2022.1.0)\n",
      "Requirement already satisfied: intel-cmplr-lic-rt==2022.1.0 in /usr/local/lib/python3.7/dist-packages (from dpcpp_cpp_rt->mkl-fft->-r ../../requirements.txt (line 47)) (2022.1.0)\n",
      "Requirement already satisfied: tbb==2021.* in /usr/local/lib/python3.7/dist-packages (from intel-opencl-rt==2022.1.0->dpcpp_cpp_rt->mkl-fft->-r ../../requirements.txt (line 47)) (2021.6.0)\n"
     ]
    }
   ],
   "source": [
    "%pip install -r ../../requirements.txt"
   ]
  },
  {
   "cell_type": "markdown",
   "metadata": {},
   "source": [
    "## Imports"
   ]
  },
  {
   "cell_type": "code",
   "execution_count": 2,
   "metadata": {},
   "outputs": [],
   "source": [
    "import os\n",
    "import sys\n",
    "sys.path.insert(0, 'code')\n",
    "import mne\n",
    "import matplotlib.pyplot as plt\n",
    "import numpy as np\n",
    "import joblib\n",
    "from state_prediction import *\n",
    "from sequenceness import *\n",
    "from utils import *\n",
    "%matplotlib inline\n",
    "\n",
    "np.random.seed(100)"
   ]
  },
  {
   "cell_type": "markdown",
   "metadata": {},
   "source": [
    "## Parameters"
   ]
  },
  {
   "cell_type": "code",
   "execution_count": 3,
   "metadata": {
    "tags": [
     "parameters"
    ]
   },
   "outputs": [],
   "source": [
    "# DEFAULT PARAMETERS - OVERRRIDEN BY PAPERMILL EXECUTION\n",
    "session_id = '001'  # ID of the scanning session\n",
    "output_dir = 'data/derivatives'  # Where the output data should go\n",
    "window_width = 40  # Width of the sliding window used for sequenceness analysis\n",
    "classifier_window = [-5, 6] # Window used for classification\n",
    "#classifier_center_idx = 37  # The center index of the classification window, post stimulus onset\n",
    "classifier_center_idx = 20\n",
    "max_lag = 20  # Maximum time-lag to look at sequenceness for\n",
    "correct_alpha = True  # Correct for alpha oscillations (only if using GLM)\n",
    "glm_constant = False  # Use constant (only if using GLM)\n",
    "method = 'cc'  # Method for assessing sequenceness, 'cc' for cross-correlation (e.g. Kurth-Nelson, Eldar), 'glm' for GLM (e.g. Liu)\n",
    "scale_data = False  # Scale state reactivation probabilities prior to sequenceness analysis\n",
    "n_stim = 14  # Number of stimuli"
   ]
  },
  {
   "cell_type": "markdown",
   "metadata": {},
   "source": [
    "## State detection\n",
    "\n",
    "### Load the classifier\n",
    "\n",
    "First we load the classifier that we previously trained on the localiser data"
   ]
  },
  {
   "cell_type": "code",
   "execution_count": 4,
   "metadata": {},
   "outputs": [
    {
     "name": "stdout",
     "output_type": "stream",
     "text": [
      "data/derivatives/classifier/classifier_idx_70/sub-001_classifier_idx_70.pkl\n"
     ]
    }
   ],
   "source": [
    "print(os.path.join(output_dir, 'classifier', 'classifier_idx_{0}'.format(classifier_center_idx + 50), 'sub-{0}_classifier_idx_{1}.pkl').format(session_id, classifier_center_idx + 50))"
   ]
  },
  {
   "cell_type": "code",
   "execution_count": 5,
   "metadata": {},
   "outputs": [],
   "source": [
    "clf = joblib.load(os.path.join(output_dir, 'classifier', 'classifier_idx_{0}'.format(classifier_center_idx + 50), 'sub-{0}_classifier_idx_{1}.pkl').format(session_id, classifier_center_idx + 50))"
   ]
  },
  {
   "cell_type": "markdown",
   "metadata": {},
   "source": [
    "### Get the task data\n",
    "\n",
    "We're interested in the planning and rest phases so we'll select these."
   ]
  },
  {
   "cell_type": "code",
   "execution_count": 6,
   "metadata": {},
   "outputs": [
    {
     "name": "stdout",
     "output_type": "stream",
     "text": [
      "Reading /content/drive/MyDrive/MT_ML_Decoding/Aversive_state_reactivation/notebooks/templates/data/derivatives/preprocessing/sub-001/task/sub-001_ses-01_task-AversiveLearningReplay_run-planning_proc_ICA-epo.fif.gz ...\n",
      "    Read 5 compensation matrices\n",
      "    Found the data of interest:\n",
      "        t =       0.00 ...    5990.00 ms\n",
      "        5 CTF compensation matrices available\n",
      "0 bad epochs dropped\n",
      "Not setting metadata\n",
      "120 matching events found\n",
      "No baseline correction applied\n",
      "0 projection items activated\n",
      "Reading /content/drive/MyDrive/MT_ML_Decoding/Aversive_state_reactivation/notebooks/templates/data/derivatives/preprocessing/sub-001/task/sub-001_ses-01_task-AversiveLearningReplay_run-outcome_proc_ICA-epo.fif.gz ...\n",
      "    Read 5 compensation matrices\n",
      "    Found the data of interest:\n",
      "        t =   -1200.00 ...    2790.00 ms\n",
      "        5 CTF compensation matrices available\n",
      "0 bad epochs dropped\n",
      "Not setting metadata\n",
      "87 matching events found\n",
      "No baseline correction applied\n",
      "0 projection items activated\n"
     ]
    }
   ],
   "source": [
    "#planning_epochs = mne.read_epochs(os.path.join(output_dir, 'preprocessing/task', 'sub-{0}_ses-01_task-AversiveLearningReplay_run-planning_proc_ICA-epo.fif.gz').format(session_id))\n",
    "#outcome_epochs = mne.read_epochs(os.path.join(output_dir, 'preprocessing/task', 'sub-{0}_ses-01_task-AversiveLearningReplay_run-task_outcome_proc_ICA-epo.fif.gz').format(session_id))\n",
    "planning_epochs = mne.read_epochs(os.path.join(output_dir, 'preprocessing', 'sub-{0}', 'task', 'sub-{0}_ses-01_task-AversiveLearningReplay_run-planning_proc_ICA-epo.fif.gz').format(session_id))\n",
    "outcome_epochs = mne.read_epochs(os.path.join(output_dir, 'preprocessing', 'sub-{0}', 'task', 'sub-{0}_ses-01_task-AversiveLearningReplay_run-outcome_proc_ICA-epo.fif.gz').format(session_id))\n",
    "\n",
    "# Get the data as a numpy array, excluding non-MEG channels\n",
    "picks_meg = mne.pick_types(planning_epochs.info, meg=True, ref_meg=False)\n",
    "planning_X = planning_epochs.get_data()[:, picks_meg, :] # MEG signals: n_epochs, n_channels, n_times\n",
    "outcome_X = outcome_epochs.get_data()[:, picks_meg, :]"
   ]
  },
  {
   "cell_type": "code",
   "execution_count": 7,
   "metadata": {},
   "outputs": [],
   "source": [
    "assert np.isnan(planning_X).any() == False, \"Nans present in planning data\"\n",
    "assert np.isnan(outcome_X).any() == False, \"Nans present in outcome data\"\n",
    "assert np.isinf(planning_X).any() == False, \"Infs present in planning data\"\n",
    "assert np.isinf(outcome_X).any() == False, \"Infs present in outcome data\""
   ]
  },
  {
   "cell_type": "markdown",
   "metadata": {},
   "source": [
    "### State detection\n",
    "\n",
    "Here we iterate over trials, reshape the data for each trial into the format `[n_trials, n_sensors, n_timepoints]`, where the first dimension is 1 and the final dimension is the timepoint of interest plus additional adjacent timepoints used as extra features, and finally and use the `predict_proba` method of the fitted classifier to get predicted state reactivation probabilities for every timepoint within the trial.\n",
    "\n",
    "\n",
    "This involves a lot of for loops and could probably be made far more efficient..."
   ]
  },
  {
   "cell_type": "code",
   "execution_count": 8,
   "metadata": {},
   "outputs": [
    {
     "name": "stderr",
     "output_type": "stream",
     "text": [
      "100%|██████████| 120/120 [00:07<00:00, 15.20it/s]\n",
      "100%|██████████| 87/87 [00:03<00:00, 26.24it/s]\n"
     ]
    }
   ],
   "source": [
    "planning_state_reactivation = predict_states(planning_X, clf, shifts=classifier_window, n_stim=n_stim)\n",
    "assert np.isnan(planning_state_reactivation).any() == False, \"Nans present in planning state reactivation array\"\n",
    "assert np.isinf(planning_state_reactivation).any() == False, \"Infs present in planning state reactivation array\"\n",
    "\n",
    "outcome_state_reactivation = predict_states(outcome_X, clf, shifts=classifier_window, n_stim=n_stim)\n",
    "assert np.isnan(outcome_state_reactivation).any() == False, \"Nans present in outcome state reactivation array\"\n",
    "assert np.isinf(outcome_state_reactivation).any() == False, \"Infs present in outcome state reactivation array\""
   ]
  },
  {
   "cell_type": "code",
   "execution_count": 9,
   "metadata": {},
   "outputs": [],
   "source": [
    "if not os.path.exists(os.path.join(output_dir, 'state_reactivation_arrays', 'planning', 'classifier_idx_{0}'.format(classifier_center_idx))):\n",
    "    os.makedirs(os.path.join(output_dir, 'state_reactivation_arrays', 'planning', 'classifier_idx_{0}'.format(classifier_center_idx)))\n",
    "np.save(os.path.join(output_dir, 'state_reactivation_arrays', 'planning', 'classifier_idx_{0}'.format(classifier_center_idx), 'sub-{0}_planning_state_reactivation_idx_{1}.pkl'.format(session_id, classifier_center_idx)), planning_state_reactivation)\n",
    "\n",
    "if not os.path.exists(os.path.join(output_dir, 'state_reactivation_arrays', 'outcome', 'classifier_idx_{0}'.format(classifier_center_idx))):\n",
    "    os.makedirs(os.path.join(output_dir, 'state_reactivation_arrays', 'outcome', 'classifier_idx_{0}'.format(classifier_center_idx)))\n",
    "np.save(os.path.join(output_dir, 'state_reactivation_arrays', 'outcome', 'classifier_idx_{0}'.format(classifier_center_idx), 'sub-{0}_outcome_state_reactivation_idx_{1}.pkl'.format(session_id, classifier_center_idx)), outcome_state_reactivation)"
   ]
  },
  {
   "cell_type": "code",
   "execution_count": 10,
   "metadata": {},
   "outputs": [],
   "source": [
    "# Convert to StateReactivation class\n",
    "outcome_seq = StateReactivation(outcome_state_reactivation)\n",
    "planning_seq = StateReactivation(planning_state_reactivation)"
   ]
  },
  {
   "cell_type": "markdown",
   "metadata": {},
   "source": [
    "## Sequenceness analysis\n",
    "\n",
    "After determining the state reactivation probabilities for each trial, we can submit this data to the sequenceness analysis. We use a GLM approach here."
   ]
  },
  {
   "cell_type": "markdown",
   "metadata": {},
   "source": [
    "### Load transition matrix\n",
    "\n",
    "Here we load the transition matrix of the task, which is necessary for sequenceness analysis. We then subset this matrix to get the four arms of the task tree."
   ]
  },
  {
   "cell_type": "code",
   "execution_count": 11,
   "metadata": {},
   "outputs": [
    {
     "ename": "OSError",
     "evalue": "task/Task_information/transition_matrix.txt not found.",
     "output_type": "error",
     "traceback": [
      "\u001b[0;31m---------------------------------------------------------------------------\u001b[0m",
      "\u001b[0;31mOSError\u001b[0m                                   Traceback (most recent call last)",
      "\u001b[0;32m<ipython-input-11-38d58f631d15>\u001b[0m in \u001b[0;36m<module>\u001b[0;34m()\u001b[0m\n\u001b[0;32m----> 1\u001b[0;31m \u001b[0mtransition_matrix\u001b[0m \u001b[0;34m=\u001b[0m \u001b[0mnp\u001b[0m\u001b[0;34m.\u001b[0m\u001b[0mloadtxt\u001b[0m\u001b[0;34m(\u001b[0m\u001b[0;34mr'task/Task_information/transition_matrix.txt'\u001b[0m\u001b[0;34m)\u001b[0m\u001b[0;34m\u001b[0m\u001b[0;34m\u001b[0m\u001b[0m\n\u001b[0m\u001b[1;32m      2\u001b[0m \u001b[0;34m\u001b[0m\u001b[0m\n\u001b[1;32m      3\u001b[0m \u001b[0mmatrices\u001b[0m \u001b[0;34m=\u001b[0m \u001b[0;34m[\u001b[0m\u001b[0;34m]\u001b[0m\u001b[0;34m\u001b[0m\u001b[0;34m\u001b[0m\u001b[0m\n\u001b[1;32m      4\u001b[0m \u001b[0;34m\u001b[0m\u001b[0m\n\u001b[1;32m      5\u001b[0m \u001b[0;31m# Select individual arms\u001b[0m\u001b[0;34m\u001b[0m\u001b[0;34m\u001b[0m\u001b[0;34m\u001b[0m\u001b[0m\n",
      "\u001b[0;32m/usr/local/lib/python3.7/dist-packages/numpy/lib/npyio.py\u001b[0m in \u001b[0;36mloadtxt\u001b[0;34m(fname, dtype, comments, delimiter, converters, skiprows, usecols, unpack, ndmin, encoding, max_rows, like)\u001b[0m\n\u001b[1;32m   1065\u001b[0m             \u001b[0mfname\u001b[0m \u001b[0;34m=\u001b[0m \u001b[0mos_fspath\u001b[0m\u001b[0;34m(\u001b[0m\u001b[0mfname\u001b[0m\u001b[0;34m)\u001b[0m\u001b[0;34m\u001b[0m\u001b[0;34m\u001b[0m\u001b[0m\n\u001b[1;32m   1066\u001b[0m         \u001b[0;32mif\u001b[0m \u001b[0m_is_string_like\u001b[0m\u001b[0;34m(\u001b[0m\u001b[0mfname\u001b[0m\u001b[0;34m)\u001b[0m\u001b[0;34m:\u001b[0m\u001b[0;34m\u001b[0m\u001b[0;34m\u001b[0m\u001b[0m\n\u001b[0;32m-> 1067\u001b[0;31m             \u001b[0mfh\u001b[0m \u001b[0;34m=\u001b[0m \u001b[0mnp\u001b[0m\u001b[0;34m.\u001b[0m\u001b[0mlib\u001b[0m\u001b[0;34m.\u001b[0m\u001b[0m_datasource\u001b[0m\u001b[0;34m.\u001b[0m\u001b[0mopen\u001b[0m\u001b[0;34m(\u001b[0m\u001b[0mfname\u001b[0m\u001b[0;34m,\u001b[0m \u001b[0;34m'rt'\u001b[0m\u001b[0;34m,\u001b[0m \u001b[0mencoding\u001b[0m\u001b[0;34m=\u001b[0m\u001b[0mencoding\u001b[0m\u001b[0;34m)\u001b[0m\u001b[0;34m\u001b[0m\u001b[0;34m\u001b[0m\u001b[0m\n\u001b[0m\u001b[1;32m   1068\u001b[0m             \u001b[0mfencoding\u001b[0m \u001b[0;34m=\u001b[0m \u001b[0mgetattr\u001b[0m\u001b[0;34m(\u001b[0m\u001b[0mfh\u001b[0m\u001b[0;34m,\u001b[0m \u001b[0;34m'encoding'\u001b[0m\u001b[0;34m,\u001b[0m \u001b[0;34m'latin1'\u001b[0m\u001b[0;34m)\u001b[0m\u001b[0;34m\u001b[0m\u001b[0;34m\u001b[0m\u001b[0m\n\u001b[1;32m   1069\u001b[0m             \u001b[0mfh\u001b[0m \u001b[0;34m=\u001b[0m \u001b[0miter\u001b[0m\u001b[0;34m(\u001b[0m\u001b[0mfh\u001b[0m\u001b[0;34m)\u001b[0m\u001b[0;34m\u001b[0m\u001b[0;34m\u001b[0m\u001b[0m\n",
      "\u001b[0;32m/usr/local/lib/python3.7/dist-packages/numpy/lib/_datasource.py\u001b[0m in \u001b[0;36mopen\u001b[0;34m(path, mode, destpath, encoding, newline)\u001b[0m\n\u001b[1;32m    191\u001b[0m \u001b[0;34m\u001b[0m\u001b[0m\n\u001b[1;32m    192\u001b[0m     \u001b[0mds\u001b[0m \u001b[0;34m=\u001b[0m \u001b[0mDataSource\u001b[0m\u001b[0;34m(\u001b[0m\u001b[0mdestpath\u001b[0m\u001b[0;34m)\u001b[0m\u001b[0;34m\u001b[0m\u001b[0;34m\u001b[0m\u001b[0m\n\u001b[0;32m--> 193\u001b[0;31m     \u001b[0;32mreturn\u001b[0m \u001b[0mds\u001b[0m\u001b[0;34m.\u001b[0m\u001b[0mopen\u001b[0m\u001b[0;34m(\u001b[0m\u001b[0mpath\u001b[0m\u001b[0;34m,\u001b[0m \u001b[0mmode\u001b[0m\u001b[0;34m,\u001b[0m \u001b[0mencoding\u001b[0m\u001b[0;34m=\u001b[0m\u001b[0mencoding\u001b[0m\u001b[0;34m,\u001b[0m \u001b[0mnewline\u001b[0m\u001b[0;34m=\u001b[0m\u001b[0mnewline\u001b[0m\u001b[0;34m)\u001b[0m\u001b[0;34m\u001b[0m\u001b[0;34m\u001b[0m\u001b[0m\n\u001b[0m\u001b[1;32m    194\u001b[0m \u001b[0;34m\u001b[0m\u001b[0m\n\u001b[1;32m    195\u001b[0m \u001b[0;34m\u001b[0m\u001b[0m\n",
      "\u001b[0;32m/usr/local/lib/python3.7/dist-packages/numpy/lib/_datasource.py\u001b[0m in \u001b[0;36mopen\u001b[0;34m(self, path, mode, encoding, newline)\u001b[0m\n\u001b[1;32m    531\u001b[0m                                       encoding=encoding, newline=newline)\n\u001b[1;32m    532\u001b[0m         \u001b[0;32melse\u001b[0m\u001b[0;34m:\u001b[0m\u001b[0;34m\u001b[0m\u001b[0;34m\u001b[0m\u001b[0m\n\u001b[0;32m--> 533\u001b[0;31m             \u001b[0;32mraise\u001b[0m \u001b[0mIOError\u001b[0m\u001b[0;34m(\u001b[0m\u001b[0;34m\"%s not found.\"\u001b[0m \u001b[0;34m%\u001b[0m \u001b[0mpath\u001b[0m\u001b[0;34m)\u001b[0m\u001b[0;34m\u001b[0m\u001b[0;34m\u001b[0m\u001b[0m\n\u001b[0m\u001b[1;32m    534\u001b[0m \u001b[0;34m\u001b[0m\u001b[0m\n\u001b[1;32m    535\u001b[0m \u001b[0;34m\u001b[0m\u001b[0m\n",
      "\u001b[0;31mOSError\u001b[0m: task/Task_information/transition_matrix.txt not found."
     ]
    }
   ],
   "source": [
    "transition_matrix = np.loadtxt(r'task/Task_information/transition_matrix.txt')\n",
    "\n",
    "matrices = []\n",
    "\n",
    "# Select individual arms\n",
    "for start in [0, 1, 2, 3]:\n",
    "    if start in [0,1]:\n",
    "        m = select_path(transition_matrix, start, 12)\n",
    "    else:\n",
    "        m = select_path(transition_matrix, start, 13)\n",
    "    matrices.append(m)"
   ]
  },
  {
   "cell_type": "markdown",
   "metadata": {},
   "source": [
    "### Calculate sequenceness"
   ]
  },
  {
   "cell_type": "code",
   "execution_count": null,
   "metadata": {},
   "outputs": [],
   "source": [
    "outcome_windowed_sequenceness = outcome_seq.get_windowed_sequenceness(max_lag, matrices, alpha=correct_alpha, \n",
    "                                                                      width=window_width, remove_first=False, constant=glm_constant, set_zero=False, scale=scale_data, method=method)\n",
    "planning_windowed_sequenceness = planning_seq.get_windowed_sequenceness(max_lag, matrices, alpha=correct_alpha, \n",
    "                                                                        width=window_width, remove_first=False, constant=glm_constant, set_zero=False, scale=scale_data, method=method)"
   ]
  },
  {
   "cell_type": "markdown",
   "metadata": {},
   "source": [
    "## Save the sequenceness data"
   ]
  },
  {
   "cell_type": "code",
   "execution_count": null,
   "metadata": {},
   "outputs": [],
   "source": [
    "if not os.path.exists(os.path.join(output_dir, 'sw_sequenceness', 'planning', 'classifier_idx_{0}'.format(classifier_center_idx))):\n",
    "    os.makedirs(os.path.join(output_dir, 'sw_sequenceness', 'planning', 'classifier_idx_{0}'.format(classifier_center_idx)))\n",
    "joblib.dump(planning_windowed_sequenceness, os.path.join(output_dir, 'sw_sequenceness', 'planning', 'classifier_idx_{0}'.format(classifier_center_idx), 'sub-{0}_planning_sequenceness_idx_{1}__{2}.pkl'.format(session_id, classifier_center_idx, method)))\n",
    "\n",
    "if not os.path.exists(os.path.join(output_dir, 'sw_sequenceness', 'outcome', 'classifier_idx_{0}'.format(classifier_center_idx))):\n",
    "    os.makedirs(os.path.join(output_dir, 'sw_sequenceness', 'outcome', 'classifier_idx_{0}'.format(classifier_center_idx)))\n",
    "joblib.dump(outcome_windowed_sequenceness, os.path.join(output_dir, 'sw_sequenceness', 'outcome', 'classifier_idx_{0}'.format(classifier_center_idx), 'sub-{0}_outcome_sequenceness_idx_{1}__{2}.pkl'.format(session_id, classifier_center_idx, method)))"
   ]
  }
 ],
 "metadata": {
  "kernel_info": {
   "name": "psychopy3"
  },
  "kernelspec": {
   "display_name": "Python 3",
   "language": "python",
   "name": "python3"
  },
  "language_info": {
   "codemirror_mode": {
    "name": "ipython",
    "version": 3
   },
   "file_extension": ".py",
   "mimetype": "text/x-python",
   "name": "python",
   "nbconvert_exporter": "python",
   "pygments_lexer": "ipython3",
   "version": "3.7.13"
  },
  "nteract": {
   "version": "0.11.7"
  }
 },
 "nbformat": 4,
 "nbformat_minor": 4
}
