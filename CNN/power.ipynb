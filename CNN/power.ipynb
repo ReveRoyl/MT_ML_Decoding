{
 "cells": [
  {
   "cell_type": "code",
   "execution_count": 2,
   "metadata": {},
   "outputs": [],
   "source": [
    "import os\n",
    "import sys\n",
    "sys.path.append('Code/code/')\n",
    "from load_data import load_MEG_dataset\n",
    "import torch\n",
    "import torchvision\n",
    "import matplotlib.pyplot as plt\n",
    "import numpy as np\n",
    "from torch.autograd import Variable\n",
    "from torch.cuda import amp\n",
    "import torch.nn.functional as F\n",
    "import math\n",
    "from scipy.integrate import simps\n",
    "from mne.time_frequency import psd_array_welch\n",
    "from band_power import (\n",
    "    bandpower_multi_bands,\n",
    "    standard_scaling_sklearn,\n",
    ")\n",
    "import sklearn\n",
    "import pandas as pd\n"
   ]
  },
  {
   "cell_type": "code",
   "execution_count": 3,
   "metadata": {},
   "outputs": [
    {
     "name": "stdout",
     "output_type": "stream",
     "text": [
      "Loading subject 001\n",
      "1000hz Data loaded\n",
      "Subject 001 complete\n",
      "--------------------------------------\n",
      "Loading subject 001\n",
      "1000hz Data loaded\n",
      "Subject 001 complete\n",
      "--------------------------------------\n",
      "Effective window size : 2.560 (s)\n",
      "processing bands (low, high) : (0.5,4)\n",
      "processing bands (low, high) : (4,8)\n",
      "processing bands (low, high) : (8,10)\n",
      "processing bands (low, high) : (10,12)\n",
      "processing bands (low, high) : (12,30)\n",
      "processing bands (low, high) : (30,70)\n"
     ]
    }
   ],
   "source": [
    "# for sub in [sub for sub in range (1,29) if sub not in [6, 12, 14 ,23]]:\n",
    "for sub in range(1,2):\n",
    "    exec('abs_{} = []'.format(sub))\n",
    "    exec('rel_{} = []'.format(sub))\n",
    "    Split = 0.90\n",
    "    X_train, y_train = load_MEG_dataset([str(i).zfill(3) for i in range(sub,sub+1)], mode = 'concatenate', output_format='numpy',shuffle = False, training=True, train_test_split=Split, batch_size=500)#, pca_n_components =30)\n",
    "    X_test, y_test = load_MEG_dataset([str(i).zfill(3) for i in range(sub,sub+1)], mode = 'concatenate', output_format='numpy',shuffle = False, training=False, train_test_split=Split, batch_size=500)#, pca_n_components =30)\n",
    "\n",
    "    X_train, X_test = (X_train-X_train.mean())/X_train.std(), (X_test-X_test.mean())/X_test.std()\n",
    "\n",
    "    X_train = X_train[:, None, ...]\n",
    "    X_test = X_test[:, None, ...]\n",
    "\n",
    "    y_train = (y_train / 2) - 1\n",
    "    y_test = (y_test / 2) - 1\n",
    "\n",
    "    X = np.swapaxes(X_train, 2, -1).squeeze()\n",
    "    data = X[X.shape[0]-1, 70, :]\n",
    "    psd_mne, freqs_mne = psd_array_welch(data, 100, 1., 70., n_per_seg=None,\n",
    "                            n_overlap=0, n_jobs=1)\n",
    "    for low, high in [(0.5, 4), (4, 8), (8, 10), (10, 12), (12, 30),\n",
    "                    (30, 70)]:\n",
    "        print(\"processing bands (low, high) : ({},{})\".format(low, high))\n",
    "        # Find intersecting values in frequency vector\n",
    "        idx_delta = np.logical_and(freqs_mne >= low, freqs_mne <= high)\n",
    "        # Frequency resolution\n",
    "        freq_res = freqs_mne[1] - freqs_mne[0]  # = 1 / 4 = 0.25\n",
    "\n",
    "        # Compute the absolute power by approximating the area under the curve\n",
    "        power = simps(psd_mne[idx_delta], dx=freq_res)\n",
    "        exec('abs_{}.append(power)'.format(sub))\n",
    "        # print('Absolute power: {:.4f} uV^2'.format(power))\n",
    "        \n",
    "        total_power = simps(psd_mne, dx=freq_res)\n",
    "        rel_power = power / total_power\n",
    "        exec('rel_{}.append(rel_power)'.format(sub))\n",
    "        # print('Relative power: {:.4f}'.format(rel_power))"
   ]
  },
  {
   "cell_type": "code",
   "execution_count": null,
   "metadata": {},
   "outputs": [],
   "source": [
    "import pandas as pd\n",
    "list1 = [10,20,30,40]\n",
    "list2 = [40,30,20,10]\n",
    "col1 = \"X\"\n",
    "col2 = \"Y\"\n",
    "data = pd.DataFrame({col1:list1,col2:list2})\n",
    "data.to_excel('sample_data.xlsx', sheet_name='sheet1', index=False)"
   ]
  }
 ],
 "metadata": {
  "kernelspec": {
   "display_name": "Python 3.10.4 ('Learning')",
   "language": "python",
   "name": "python3"
  },
  "language_info": {
   "codemirror_mode": {
    "name": "ipython",
    "version": 3
   },
   "file_extension": ".py",
   "mimetype": "text/x-python",
   "name": "python",
   "nbconvert_exporter": "python",
   "pygments_lexer": "ipython3",
   "version": "3.10.4"
  },
  "orig_nbformat": 4,
  "vscode": {
   "interpreter": {
    "hash": "d3f8439c604ca9268f63ecc0bf7d76875764d77ef153c16f58a7300e9d30b6c0"
   }
  }
 },
 "nbformat": 4,
 "nbformat_minor": 2
}
