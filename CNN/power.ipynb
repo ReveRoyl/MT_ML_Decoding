{
 "cells": [
  {
   "cell_type": "code",
   "execution_count": null,
   "metadata": {},
   "outputs": [],
   "source": [
    "import os\n",
    "import sys\n",
    "sys.path.append('Code/code/')\n",
    "from load_data import load_MEG_dataset\n",
    "import torch\n",
    "import torchvision\n",
    "import matplotlib.pyplot as plt\n",
    "import numpy as np\n",
    "from torch.autograd import Variable\n",
    "from torch.cuda import amp\n",
    "import torch.nn.functional as F\n",
    "import math\n",
    "from scipy.integrate import simps\n",
    "from mne.time_frequency import psd_array_welch\n",
    "from band_power import (\n",
    "    bandpower_multi_bands,\n",
    "    standard_scaling_sklearn,\n",
    ")\n",
    "import sklearn\n",
    "import pandas as pd\n"
   ]
  },
  {
   "cell_type": "code",
   "execution_count": null,
   "metadata": {},
   "outputs": [],
   "source": [
    "# for sub in [sub for sub in range (1,29) if sub not in [6, 12, 14 ,23]]:\n",
    "for sub in range(1,2):\n",
    "    exec('abs_{} = []'.format(sub))\n",
    "    exec('rel_{} = []'.format(sub))\n",
    "    Split = 0.90\n",
    "    X_train, y_train = load_MEG_dataset([str(i).zfill(3) for i in range(sub,sub+1)], mode = 'concatenate', output_format='numpy',shuffle = False, training=True, train_test_split=Split, batch_size=500)#, pca_n_components =30)\n",
    "    X_test, y_test = load_MEG_dataset([str(i).zfill(3) for i in range(sub,sub+1)], mode = 'concatenate', output_format='numpy',shuffle = False, training=False, train_test_split=Split, batch_size=500)#, pca_n_components =30)\n",
    "\n",
    "    X_train = (X_train-X_train.mean())/X_train.std()\n",
    "    X_train = X_train[:, None, ...]\n",
    "\n",
    "    X = np.swapaxes(X_train, 2, -1).squeeze()\n",
    "    data = X[X.shape[0]-1, 70, :]\n",
    "    psd_mne, freqs_mne = psd_array_welch(data, 100, 1., 70., n_per_seg=None,\n",
    "                            n_overlap=0, n_jobs=1)\n",
    "    for low, high in [(0.5, 4), (4, 8), (8, 10), (10, 12), (12, 30),\n",
    "                    (30, 70)]:\n",
    "        print(\"processing bands (low, high) : ({},{})\".format(low, high))\n",
    "        # Find intersecting values in frequency vector\n",
    "        idx_delta = np.logical_and(freqs_mne >= low, freqs_mne <= high)\n",
    "        # Frequency resolution\n",
    "        freq_res = freqs_mne[1] - freqs_mne[0]  # = 1 / 4 = 0.25\n",
    "\n",
    "        # Compute the absolute power by approximating the area under the curve\n",
    "        power = simps(psd_mne[idx_delta], dx=freq_res)\n",
    "        exec('abs_{}.append(power)'.format(sub))\n",
    "        # print('Absolute power: {:.4f} uV^2'.format(power))\n",
    "        \n",
    "        total_power = simps(psd_mne, dx=freq_res)\n",
    "        rel_power = power / total_power\n",
    "        exec('rel_{}.append(rel_power)'.format(sub))\n",
    "        # print('Relative power: {:.4f}'.format(rel_power))"
   ]
  },
  {
   "cell_type": "code",
   "execution_count": null,
   "metadata": {},
   "outputs": [],
   "source": [
    "df1 = pd.DataFrame({'sub1':abs_1,\n",
    "                        'sub2':abs_2,\n",
    "                        'sub3':abs_3,\n",
    "                       'sub4':abs_4,\n",
    "                       'sub5':abs_5,\n",
    "                       'sub7':abs_7,\n",
    "                       'sub8':abs_8,\n",
    "                       'sub9':abs_9,\n",
    "                       'sub10':abs_10,\n",
    "                       'sub11':abs_11,\n",
    "                       'sub13':abs_13,\n",
    "                       'sub15':abs_15,\n",
    "                       'sub16':abs_16,\n",
    "                       'sub17':abs_17,\n",
    "                       'sub18':abs_18,\n",
    "                       'sub19':abs_19,\n",
    "                       'sub20':abs_20,\n",
    "                       'sub21':abs_21,\n",
    "                      'sub22':abs_22,\n",
    "                      'sub24':abs_24,\n",
    "                      'sub25':abs_25,\n",
    "                      'sub26':abs_26,\n",
    "                      'sub27':abs_27,\n",
    "                      'sub28':abs_28},)\n",
    "df1.to_excel('models/abs.xlsx', sheet_name='sheet1', index=False)"
   ]
  },
  {
   "cell_type": "code",
   "execution_count": null,
   "metadata": {},
   "outputs": [],
   "source": [
    "df2 = pd.DataFrame({'sub1':rel_1,\n",
    "                        'sub2':rel_2,\n",
    "                        'sub3':rel_3,\n",
    "                       'sub4':rel_4,\n",
    "                       'sub5':rel_5,\n",
    "                       'sub7':rel_7,\n",
    "                       'sub8':rel_8,\n",
    "                       'sub9':rel_9,\n",
    "                       'sub10':rel_10,\n",
    "                       'sub11':rel_11,\n",
    "                       'sub13':rel_13,\n",
    "                       'sub15':rel_15,\n",
    "                       'sub16':rel_16,\n",
    "                       'sub17':rel_17,\n",
    "                       'sub18':rel_18,\n",
    "                       'sub19':rel_19,\n",
    "                       'sub20':rel_20,\n",
    "                       'sub21':rel_21,\n",
    "                      'sub22':rel_22,\n",
    "                      'sub24':rel_24,\n",
    "                      'sub25':rel_25,\n",
    "                      'sub26':rel_26,\n",
    "                      'sub27':rel_27,\n",
    "                      'sub28':rel_28},)\n",
    "df2.to_excel('models/rel.xlsx', sheet_name='sheet1', index=False)"
   ]
  }
 ],
 "metadata": {
  "kernelspec": {
   "display_name": "Python 3.10.4 ('Learning')",
   "language": "python",
   "name": "python3"
  },
  "language_info": {
   "codemirror_mode": {
    "name": "ipython",
    "version": 3
   },
   "file_extension": ".py",
   "mimetype": "text/x-python",
   "name": "python",
   "nbconvert_exporter": "python",
   "pygments_lexer": "ipython3",
   "version": "3.10.4"
  },
  "orig_nbformat": 4,
  "vscode": {
   "interpreter": {
    "hash": "d3f8439c604ca9268f63ecc0bf7d76875764d77ef153c16f58a7300e9d30b6c0"
   }
  }
 },
 "nbformat": 4,
 "nbformat_minor": 2
}
